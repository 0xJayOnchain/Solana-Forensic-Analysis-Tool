{
 "cells": [
  {
   "cell_type": "code",
   "execution_count": 1,
   "metadata": {},
   "outputs": [],
   "source": [
    "from typing import List\n",
    "from config.endpoints import MAINNET_BASE_URL\n",
    "from helpers.utility import _make_get_request, _make_post_request\n",
    "from helius import NFTAPI, NameAPI, BalancesAPI, WebhooksAPI, TransactionsAPI\n",
    "import requests\n",
    "import pandas as pd\n",
    "import os\n",
    "\n",
    "\n",
    "\n",
    "class TransactionsAPI:\n",
    "    def __init__(self, api_key: str):\n",
    "        self.base_url = MAINNET_BASE_URL\n",
    "        self.headers = {\"Authorization\": f\"Bearer {api_key}\"}\n",
    "        #self.api_key_query = f\"?api-key={api_key}\"\n",
    "\n",
    "    def _build_url(self, path: str, params: dict = None) -> str:\n",
    "        url = self.base_url + path\n",
    "        if params:\n",
    "            query_string = \"&\".join(f\"{k}={v}\" for k, v in params.items() if v)\n",
    "            url += f\"?{query_string}\"\n",
    "        return url\n",
    "\n",
    "\n",
    "    def get_raw_transactions(\n",
    "        self, \n",
    "        accounts: List[str], \n",
    "        start_slot: int=None,\n",
    "        end_slot: int=None,\n",
    "        start_time: int=None,\n",
    "        end_time: int=None,\n",
    "        limit: int=None,\n",
    "        sort_order: str=None,\n",
    "        pagination_token: str=None\n",
    "        ):\n",
    "\n",
    "        path = \"/v1/raw-transactions\"\n",
    "        url = self._build_url(path)\n",
    "        payload = {\n",
    "            \"query\": {\n",
    "                \"accounts\": accounts,\n",
    "                \"startSlot\": start_slot,\n",
    "                \"endSlot\": end_slot,\n",
    "                \"startTime\": start_time,\n",
    "                \"endTime\": end_time\n",
    "            },\n",
    "            \"options\": {\n",
    "                \"limit\": limit,\n",
    "                \"sortOrder\": sort_order,\n",
    "                \"paginationToken\": pagination_token\n",
    "            }\n",
    "        }\n",
    "        return _make_post_request(url, payload, headers=self.headers)\n",
    "\n",
    "    def get_parsed_transactions(self, transactions: List[str], commitment: str = None):\n",
    "        path = \"/v0/transactions\"\n",
    "        url = self._build_url(path, {\"commitment\": commitment})\n",
    "        payload = {\"transactions\": transactions}\n",
    "        return _make_post_request(url, payload, headers=self.headers)\n",
    "\n",
    "    def get_parsed_transaction_history(\n",
    "        self, \n",
    "        address: str, \n",
    "        before: str='', \n",
    "        until: str='', \n",
    "        commitment: str='',\n",
    "        source: str='',\n",
    "        type: str=''\n",
    "        ):\n",
    "        \n",
    "        path = f\"/v0/addresses/{address}/transactions\"\n",
    "        params = {\n",
    "            \"before\": before,\n",
    "            \"until\": until,\n",
    "            \"commitment\": commitment,\n",
    "            \"source\": source,\n",
    "            \"type\": type\n",
    "        }\n",
    "\n",
    "        url = self.base_url + path\n",
    "        return _make_get_request(url, params=params)"
   ]
  },
  {
   "cell_type": "code",
   "execution_count": 2,
   "metadata": {},
   "outputs": [],
   "source": [
    "HELIUS_API_KEY = os.getenv('api_key')"
   ]
  },
  {
   "cell_type": "code",
   "execution_count": 3,
   "metadata": {},
   "outputs": [],
   "source": [
    "# helpers/utility.py\n",
    "def _make_post_request(url: str, payload: dict, headers: dict) -> dict:\n",
    "    response = requests.post(url, json=payload, headers=headers)\n",
    "    if response.status_code == 200:\n",
    "        return response.json()\n",
    "    else:\n",
    "        raise ValueError(f\"Error: {response.status_code}: {response.text}\")"
   ]
  },
  {
   "cell_type": "code",
   "execution_count": 4,
   "metadata": {},
   "outputs": [
    {
     "data": {
      "text/plain": [
       "<__main__.TransactionsAPI at 0x103e795a0>"
      ]
     },
     "execution_count": 4,
     "metadata": {},
     "output_type": "execute_result"
    }
   ],
   "source": [
    "# Initialize with your API key (ensure it's valid and active)\n",
    "#HELIUS_API_KEY = os.getenv(\"api_key\")  \n",
    "tx_api = TransactionsAPI(api_key=HELIUS_API_KEY)\n",
    "\n",
    "tx_api"
   ]
  },
  {
   "cell_type": "code",
   "execution_count": 6,
   "metadata": {},
   "outputs": [],
   "source": [
    "# # Example usage\n",
    "# transactions = [\"\"]  # Your transaction signatures\n",
    "# response = tx_api.get_parsed_transactions(transactions)\n",
    "# print(response)"
   ]
  },
  {
   "cell_type": "code",
   "execution_count": 7,
   "metadata": {},
   "outputs": [
    {
     "data": {
      "text/plain": [
       "<helius.balances.BalancesAPI at 0x10abef880>"
      ]
     },
     "execution_count": 7,
     "metadata": {},
     "output_type": "execute_result"
    }
   ],
   "source": [
    "balances_api = BalancesAPI(HELIUS_API_KEY)\n",
    "balances_api"
   ]
  },
  {
   "cell_type": "code",
   "execution_count": 8,
   "metadata": {},
   "outputs": [
    {
     "data": {
      "text/plain": [
       "{'tokens': [{'tokenAccount': '5iPPv6kqUA5BLgkQRwChbWNa17o14dU1GS9ksxgZfXG1',\n",
       "   'mint': 'GRUmPYbiTpq9ZPy5LAqBMMze7kErf5dEX2i9qYfwoSmR',\n",
       "   'amount': 0,\n",
       "   'decimals': 9},\n",
       "  {'tokenAccount': 'AvnWQTMCokoRR9wd8pYJwA5JbTLS3ZX97fSNDqD1g8v7',\n",
       "   'mint': '3DH8WZ6C2HdDR4J9ekYnTfai8Tx8mxn92mW8zcYmP4px',\n",
       "   'amount': 354000000000,\n",
       "   'decimals': 9},\n",
       "  {'tokenAccount': '37vryqQ6z4j7sdAJjTMAmzVKDkadzi4ZGcVoPkoToVqb',\n",
       "   'mint': 'EPjFWdd5AufqSSqeM2qN1xzybapC8G4wEGGkZwyTDt1v',\n",
       "   'amount': 33378,\n",
       "   'decimals': 6},\n",
       "  {'tokenAccount': '8kuTaQgk46Wo7PCuXfZuySEP85fZRgVbvCXkAfwVmt9S',\n",
       "   'mint': 'Hk82ay38uGpYgqjdXXCiATavVQwAMaBNyxsUWbapmKuL',\n",
       "   'amount': 1000000000,\n",
       "   'decimals': 6},\n",
       "  {'tokenAccount': 'GXnj7rSQtBUWcQbeP5QEyKJyv4br64uckb8xsS1sBY11',\n",
       "   'mint': 'G4hdrdhnboNgFXo1uP21VwZ9zrNbxwZDmtpZt2Mnpump',\n",
       "   'amount': 12126567051,\n",
       "   'decimals': 6},\n",
       "  {'tokenAccount': '6XWCWkwCdbBTzK5GrtTCVRQqXaB2QGuDHqZsXEt9KbBo',\n",
       "   'mint': 'EWx3xDR76YfxF3VHwTLgwU9WYrwANw3yxX5vvk8Kpump',\n",
       "   'amount': 119000000,\n",
       "   'decimals': 6},\n",
       "  {'tokenAccount': '5Kii5utYQ31sMTH61EiUk3sEsjsxLdf3emEapPtt5oqx',\n",
       "   'mint': 'H3c9RZhvCzxQSmLULh4RsJC8GuK9rVNV2bcoLhMQmoon',\n",
       "   'amount': 0,\n",
       "   'decimals': 9},\n",
       "  {'tokenAccount': 'yUust47qP81xa2aLy9pUodUw1AfoDbezfse4yGw7Wzz',\n",
       "   'mint': 'HAPPYwgFcjEJDzRtfWE6tiHE9zGdzpNky2FvjPHsvvGZ',\n",
       "   'amount': 0,\n",
       "   'decimals': 9},\n",
       "  {'tokenAccount': 'BCLg84ranBtCtNdJW4CvYMoJPqqHSUFmjCmiyBDDt4MM',\n",
       "   'mint': '2qAx8nkVedYNNff19N4CZZJT66etYgSyWcYvNasGpump',\n",
       "   'amount': 0,\n",
       "   'decimals': 6},\n",
       "  {'tokenAccount': '4yLdi6X9xLRV3eezR3raibRoeAxotJA3n29uEsRfoNHL',\n",
       "   'mint': 'Em9zr2tgSmGgRbz3kxyQeRXjRi9oc13wMu6cKam4zWFW',\n",
       "   'amount': 74500000,\n",
       "   'decimals': 6},\n",
       "  {'tokenAccount': '2nKanNe6tDM5aXc2ZNvYeVKpdw4Y26dvzS19FmPiJJ4S',\n",
       "   'mint': 'JD8gUc2qfvmwxtttRviHSRZ4pbGKy5nha2vdEULwx3r5',\n",
       "   'amount': 3888000000,\n",
       "   'decimals': 6},\n",
       "  {'tokenAccount': '2szUXuiZi1TNXaEVfyoezJ8nWigyrB3DmqTz7sbvmqbf',\n",
       "   'mint': '47ixSEoXn9KUnZ9FjCD78NSWDd4RxKUjcwSSYMSnpump',\n",
       "   'amount': 0,\n",
       "   'decimals': 6},\n",
       "  {'tokenAccount': 'HSrx5V9PUuazeuen6ZYaid2o1KUbiLwDaRmJdjBmqrJZ',\n",
       "   'mint': 'HD1sDvk9jjUgRv6XmVYje7ghV3udzCZhotgxSortBdga',\n",
       "   'amount': 1434339522508,\n",
       "   'decimals': 9}],\n",
       " 'nativeBalance': 28313564}"
      ]
     },
     "execution_count": 8,
     "metadata": {},
     "output_type": "execute_result"
    }
   ],
   "source": [
    "balances_api.get_balances(\"hq8fC9VkxU6rv1QvMUkGKbhFR3MxSd7nCkCGaaXx9MA\")"
   ]
  },
  {
   "cell_type": "code",
   "execution_count": null,
   "metadata": {},
   "outputs": [],
   "source": [
    "balances_api = BalancesAPI(HELIUS_API_KEY)\n",
    "balances_api"
   ]
  }
 ],
 "metadata": {
  "kernelspec": {
   "display_name": "solana-forensics",
   "language": "python",
   "name": "python3"
  },
  "language_info": {
   "codemirror_mode": {
    "name": "ipython",
    "version": 3
   },
   "file_extension": ".py",
   "mimetype": "text/x-python",
   "name": "python",
   "nbconvert_exporter": "python",
   "pygments_lexer": "ipython3",
   "version": "3.10.16"
  }
 },
 "nbformat": 4,
 "nbformat_minor": 2
}
