{
 "cells": [
  {
   "cell_type": "markdown",
   "metadata": {},
   "source": [
    "# Imports and Global Variables"
   ]
  },
  {
   "cell_type": "code",
   "execution_count": 8,
   "metadata": {},
   "outputs": [],
   "source": [
    "from typing import List\n",
    "from config.endpoints import MAINNET_BASE_URL\n",
    "from helpers.utility import _make_get_request, _make_post_request\n",
    "from helius import NFTAPI, NameAPI, BalancesAPI, WebhooksAPI, TransactionsAPI\n",
    "from dotenv import load_dotenv\n",
    "from pathlib import Path\n",
    "import requests\n",
    "import pandas as pd\n",
    "import numpy as np\n",
    "import os\n",
    "import time\n",
    "import json\n",
    "from collections import defaultdict\n"
   ]
  },
  {
   "cell_type": "code",
   "execution_count": 3,
   "metadata": {},
   "outputs": [],
   "source": [
    "try:\n",
    "    ROOT_DIR = Path(__file__).resolve().parent\n",
    "except NameError:\n",
    "    ROOT_DIR = Path(os.getcwd()).resolve()"
   ]
  },
  {
   "cell_type": "code",
   "execution_count": 4,
   "metadata": {},
   "outputs": [
    {
     "data": {
      "text/plain": [
       "WindowsPath('C:/Users/Brandyn/projects/solana_analysis_tool/notebooks')"
      ]
     },
     "execution_count": 4,
     "metadata": {},
     "output_type": "execute_result"
    }
   ],
   "source": [
    "ROOT_DIR"
   ]
  },
  {
   "cell_type": "code",
   "execution_count": 5,
   "metadata": {},
   "outputs": [],
   "source": [
    "# Persistent Variables\n",
    "\n",
    "LAMPORT_SCALE = 1e9"
   ]
  },
  {
   "cell_type": "code",
   "execution_count": 6,
   "metadata": {},
   "outputs": [
    {
     "data": {
      "text/plain": [
       "True"
      ]
     },
     "execution_count": 6,
     "metadata": {},
     "output_type": "execute_result"
    }
   ],
   "source": [
    "load_dotenv()"
   ]
  },
  {
   "cell_type": "code",
   "execution_count": 7,
   "metadata": {},
   "outputs": [],
   "source": [
    "# class TransactionsAPI:\n",
    "#     def __init__(self, api_key: str):\n",
    "#         self.base_url = MAINNET_BASE_URL\n",
    "#         self.headers = {\"Authorization\": f\"Bearer {api_key}\"}\n",
    "#         self.api_key_query = f\"?api-key={api_key}\"\n",
    "\n",
    "#     def get_raw_transactions(\n",
    "#         self, \n",
    "#         accounts: List[str], \n",
    "#         start_slot: int=None,\n",
    "#         end_slot: int=None,\n",
    "#         start_time: int=None,\n",
    "#         end_time: int=None,\n",
    "#         limit: int=None,\n",
    "#         sort_order: str=None,\n",
    "#         pagination_token: str=None\n",
    "#         ):\n",
    "\n",
    "class TransactionsAPI:\n",
    "    def __init__(self, api_key: str):\n",
    "        self.base_url = MAINNET_BASE_URL\n",
    "        self.headers = {\"Authorization\": f\"Bearer {api_key}\"}\n",
    "        #self.api_key_query = f\"?api-key={api_key}\"\n",
    "\n",
    "#     def get_parsed_transactions(self, transactions: List[str], commitment: str=None):\n",
    "#         path = \"/v0/transactions\"\n",
    "#         if commitment:\n",
    "#             url = self.base_url + path + self.api_key_query + \"?commitment=commitment\"\n",
    "#         else:\n",
    "#             url = self.base_url + path + self.api_key_query\n",
    "#         payload = {\n",
    "#             \"transactions\": transactions\n",
    "#         }\n",
    "#         return _make_post_request(url, payload)\n",
    "\n",
    "        path = \"/v1/raw-transactions\"\n",
    "        url = self.base_url + path + self.api_key_query\n",
    "        payload = {\n",
    "            \"query\": {\n",
    "                \"accounts\": accounts,\n",
    "                \"startSlot\": start_slot,\n",
    "                \"endSlot\": end_slot,\n",
    "                \"startTime\": start_time,\n",
    "                \"endTime\": end_time\n",
    "            },\n",
    "            \"options\": {\n",
    "                \"limit\": limit,\n",
    "                \"sortOrder\": sort_order,\n",
    "                \"paginationToken\": pagination_token\n",
    "            }\n",
    "        }\n",
    "        return _make_post_request(url, payload)\n",
    "\n",
    "    def get_parsed_transactions(self, transactions: List[str], commitment: str=None):\n",
    "        path = \"/v0/transactions\"\n",
    "        if commitment:\n",
    "            url = self.base_url + path + self.api_key_query + \"?commitment=commitment\"\n",
    "        else:\n",
    "            url = self.base_url + path + self.api_key_query\n",
    "        payload = {\n",
    "            \"transactions\": transactions\n",
    "        }\n",
    "        return _make_post_request(url, payload)\n",
    "\n",
    "        response = requests.post(\n",
    "            url,\n",
    "            headers={\"Content-Type\": \"application/json\"},\n",
    "            data=json.dumps(payload)\n",
    "        )\n",
    "\n",
    "        try:\n",
    "            data = response.json()\n",
    "            if \"error\" in data:\n",
    "                print(f\"❌ Error: {data['error']['message']}\")\n",
    "                break\n",
    "\n",
    "            batch = data[\"result\"]\n",
    "            if not batch:\n",
    "                break\n",
    "\n",
    "            collected.extend(batch)\n",
    "            before = batch[-1][\"signature\"]  # Move to next batch\n",
    "\n",
    "            time.sleep(0.5)  # Avoid rate-limits\n",
    "\n",
    "        except Exception as e:\n",
    "            print(f\"Exception: {e}\")\n",
    "            break\n",
    "\n",
    "    return collected"
   ]
  },
  {
   "cell_type": "code",
   "execution_count": 20,
   "metadata": {},
   "outputs": [],
   "source": [
    "# signatures = get_all_signatures(test_address, HELIUS_API_KEY)\n",
    "\n",
    "# signatures_dict = {}\n",
    "\n",
    "# for sig in signatures:\n",
    "#     time = sig.get('blockTime')\n",
    "#     signature_str = sig.get('signature')\n",
    "\n",
    "#     signatures_dict[signature_str] = time\n",
    "\n",
    "# signatures_dict"
   ]
  },
  {
   "cell_type": "code",
   "execution_count": 21,
   "metadata": {},
   "outputs": [],
   "source": [
    "# signatures_array = list(signatures_dict.keys())"
   ]
  },
  {
   "cell_type": "code",
   "execution_count": 22,
   "metadata": {},
   "outputs": [],
   "source": [
    "def v0_transactions_all(signatures, helius_api_key):\n",
    "    import time\n",
    "    url = f\"https://api.helius.xyz/v0/transactions?api-key={helius_api_key}\"\n",
    "    headers = {\"Content-Type\": \"application/json\"}\n",
    "\n",
    "    all_results = []\n",
    "    batch_size = 100\n",
    "\n",
    "    for i in range(0, len(signatures), batch_size):\n",
    "        batch = signatures[i:i+batch_size]\n",
    "        payload = json.dumps({\"transactions\": batch})\n",
    "\n",
    "        response = requests.post(url, headers=headers, data=payload)\n",
    "\n",
    "        try:\n",
    "            data = response.json()\n",
    "            if isinstance(data, dict) and \"error\" in data:\n",
    "                print(f\"❌ Error at batch {i // batch_size}: {data['error']}\")\n",
    "                continue\n",
    "\n",
    "            all_results.extend(data)\n",
    "\n",
    "        except Exception as e:\n",
    "            print(f\"❌ Exception during batch {i // batch_size}: {e}\")\n",
    "\n",
    "        time.sleep(0.3)  # Optional rate limit buffer\n",
    "\n",
    "    return all_results\n"
   ]
  },
  {
   "cell_type": "code",
   "execution_count": 23,
   "metadata": {},
   "outputs": [],
   "source": [
    "# signatures_array"
   ]
  },
  {
   "cell_type": "code",
   "execution_count": 24,
   "metadata": {},
   "outputs": [],
   "source": [
    "# data = v0_transactions_all(signatures_array, HELIUS_API_KEY)"
   ]
  },
  {
   "cell_type": "code",
   "execution_count": 25,
   "metadata": {},
   "outputs": [],
   "source": [
    "# len(data)"
   ]
  },
  {
   "cell_type": "code",
   "execution_count": 26,
   "metadata": {},
   "outputs": [
    {
     "data": {
      "text/plain": [
       "'C:\\\\Users\\\\Brandyn\\\\projects\\\\solana_analysis_tool\\\\notebooks'"
      ]
     },
     "execution_count": 26,
     "metadata": {},
     "output_type": "execute_result"
    }
   ],
   "source": [
    "os.getcwd()"
   ]
  },
  {
   "cell_type": "code",
   "execution_count": 27,
   "metadata": {},
   "outputs": [],
   "source": [
    "# os.chdir('..')"
   ]
  },
  {
   "cell_type": "code",
   "execution_count": 28,
   "metadata": {},
   "outputs": [],
   "source": [
    "def get_comprehensive_tx_history(wallet, api_key, use_cache=True):\n",
    "\n",
    "    if use_cache:\n",
    "        with open('../data/test_tx_history.json') as f:\n",
    "            parsed_transaction_history = json.load(f)\n",
    "\n",
    "        return parsed_transaction_history\n",
    "    \n",
    "    else:\n",
    "\n",
    "        signatures = get_all_signatures(wallet, api_key)\n",
    "\n",
    "        signatures_dict = {}\n",
    "\n",
    "        for sig in signatures:\n",
    "            time = sig.get('blockTime')\n",
    "            signature_str = sig.get('signature')\n",
    "\n",
    "            signatures_dict[signature_str] = time\n",
    "        \n",
    "        signatures_array = list(signatures_dict.keys())\n",
    "\n",
    "        url = self.base_url + path + self.api_key_query\n",
    "        return _make_get_request(url, params=params)"
   ]
  },
  {
   "cell_type": "code",
   "execution_count": null,
   "metadata": {},
   "outputs": [
    {
     "name": "stdout",
     "output_type": "stream",
     "text": [
      "e44725ef-4c9e-40a8-9af8-d3fe58734080\n"
     ]
    }
   ],
   "source": [
    "# print(json.dumps(parsed_transaction_history, indent=2))"
   ]
  },
  {
   "cell_type": "code",
   "execution_count": 40,
   "metadata": {},
   "outputs": [
    {
     "data": {
      "text/plain": [
       "493"
      ]
     },
     "execution_count": 40,
     "metadata": {},
     "output_type": "execute_result"
    }
   ],
   "source": [
    "len(parsed_transaction_history) # each tx is an array"
   ]
  },
  {
   "cell_type": "code",
   "execution_count": 41,
   "metadata": {},
   "outputs": [
    {
     "data": {
      "text/plain": [
       "dict_keys(['description', 'type', 'source', 'fee', 'feePayer', 'signature', 'slot', 'timestamp', 'tokenTransfers', 'nativeTransfers', 'accountData', 'transactionError', 'instructions', 'events'])"
      ]
     },
     "execution_count": 41,
     "metadata": {},
     "output_type": "execute_result"
    }
   ],
   "source": [
    "parsed_transaction_history[0].keys()"
   ]
  },
  {
   "cell_type": "code",
   "execution_count": 42,
   "metadata": {},
   "outputs": [],
   "source": [
    "# TX Id from Flipside dataset matches signatures in Helius dataset \n",
    "\n",
    "# signatures = []\n",
    "\n",
    "# for ar in parsed_transaction_history:\n",
    "#     signature = ar['signature'].lower()\n",
    "#     if signature in balance_df['TX_ID'].unique():\n",
    "#         print(f'ar: {ar}')\n"
   ]
  },
  {
   "cell_type": "code",
   "execution_count": 11,
   "metadata": {},
   "outputs": [
    {
     "data": {
      "text/plain": [
       "<__main__.TransactionsAPI at 0x11561a5c0>"
      ]
     },
     "execution_count": 11,
     "metadata": {},
     "output_type": "execute_result"
    }
   ],
   "source": [
    "#block_time (UTC)\n",
    "\n",
    "pd.to_datetime(parsed_transaction_history[0].get('timestamp'), unit='s')"
   ]
  },
  {
   "cell_type": "code",
   "execution_count": null,
   "metadata": {},
   "outputs": [],
   "source": [
    "# Example usage\n",
    "transactions = [\"\"]  # Your transaction signatures\n",
    "response = tx_api.get_parsed_transactions(transactions)\n",
    "print(response)"
   ]
  },
  {
   "cell_type": "code",
   "execution_count": 14,
   "metadata": {},
   "outputs": [
    {
     "data": {
      "text/html": [
       "<div>\n",
       "<style scoped>\n",
       "    .dataframe tbody tr th:only-of-type {\n",
       "        vertical-align: middle;\n",
       "    }\n",
       "\n",
       "    .dataframe tbody tr th {\n",
       "        vertical-align: top;\n",
       "    }\n",
       "\n",
       "    .dataframe thead th {\n",
       "        text-align: right;\n",
       "    }\n",
       "</style>\n",
       "<table border=\"1\" class=\"dataframe\">\n",
       "  <thead>\n",
       "    <tr style=\"text-align: right;\">\n",
       "      <th></th>\n",
       "      <th>timestamp</th>\n",
       "      <th>signature</th>\n",
       "      <th>net_token_flows</th>\n",
       "      <th>counterparties</th>\n",
       "      <th>type</th>\n",
       "      <th>source</th>\n",
       "      <th>tx_status</th>\n",
       "      <th>direction</th>\n",
       "      <th>counterparty</th>\n",
       "      <th>slot</th>\n",
       "      <th>tx_fee</th>\n",
       "      <th>program_id</th>\n",
       "      <th>PRE_BALANCE</th>\n",
       "      <th>BALANCE</th>\n",
       "      <th>SYMBOL</th>\n",
       "      <th>NAME</th>\n",
       "      <th>MINT</th>\n",
       "    </tr>\n",
       "  </thead>\n",
       "  <tbody>\n",
       "    <tr>\n",
       "      <th>0</th>\n",
       "      <td>1743941539</td>\n",
       "      <td>6mpqrks4akyjez3jljjubhswnb96oijdfx1dgeznzebhxm...</td>\n",
       "      <td>{'SOL': 1e-09}</td>\n",
       "      <td>[5Hr7wZg7oBpVhH5nngRqzr5W7ZFUfCsfEhbziZJak7fr]</td>\n",
       "      <td>TRANSFER</td>\n",
       "      <td>SYSTEM_PROGRAM</td>\n",
       "      <td>success</td>\n",
       "      <td>received</td>\n",
       "      <td>5Hr7wZg7oBpVhH5nngRqzr5W7ZFUfCsfEhbziZJak7fr</td>\n",
       "      <td>331670303</td>\n",
       "      <td>0.000006</td>\n",
       "      <td>11111111111111111111111111111111</td>\n",
       "      <td>0.017773</td>\n",
       "      <td>0.017773</td>\n",
       "      <td>SOL</td>\n",
       "      <td>Solana</td>\n",
       "      <td>So11111111111111111111111111111111111111111</td>\n",
       "    </tr>\n",
       "    <tr>\n",
       "      <th>0</th>\n",
       "      <td>1743898250</td>\n",
       "      <td>29ap1yrcx2dbjm4mxk8257g5e87by7cgxysds6liaamsxx...</td>\n",
       "      <td>{'SOL': 1e-09}</td>\n",
       "      <td>[FLiPgGTXtBtEJoytikaywvWgbz5a56DdHKZU72HSYMFF]</td>\n",
       "      <td>TRANSFER</td>\n",
       "      <td>SYSTEM_PROGRAM</td>\n",
       "      <td>success</td>\n",
       "      <td>received</td>\n",
       "      <td>FLiPgGTXtBtEJoytikaywvWgbz5a56DdHKZU72HSYMFF</td>\n",
       "      <td>331561835</td>\n",
       "      <td>0.000005</td>\n",
       "      <td>11111111111111111111111111111111</td>\n",
       "      <td>0.017773</td>\n",
       "      <td>0.017773</td>\n",
       "      <td>SOL</td>\n",
       "      <td>Solana</td>\n",
       "      <td>So11111111111111111111111111111111111111111</td>\n",
       "    </tr>\n",
       "  </tbody>\n",
       "</table>\n",
       "</div>"
      ],
      "text/plain": [
       "<helius.balances.BalancesAPI at 0x11561ad10>"
      ]
     },
     "execution_count": 14,
     "metadata": {},
     "output_type": "execute_result"
    }
   ],
   "source": [
    "balances_api = BalancesAPI(HELIUS_API_KEY)\n",
    "balances_api"
   ]
  },
  {
   "cell_type": "code",
   "execution_count": 15,
   "metadata": {},
   "outputs": [
    {
     "data": {
      "text/plain": [
       "{'tokens': [{'tokenAccount': '5iPPv6kqUA5BLgkQRwChbWNa17o14dU1GS9ksxgZfXG1',\n",
       "   'mint': 'GRUmPYbiTpq9ZPy5LAqBMMze7kErf5dEX2i9qYfwoSmR',\n",
       "   'amount': 0,\n",
       "   'decimals': 9},\n",
       "  {'tokenAccount': 'AvnWQTMCokoRR9wd8pYJwA5JbTLS3ZX97fSNDqD1g8v7',\n",
       "   'mint': '3DH8WZ6C2HdDR4J9ekYnTfai8Tx8mxn92mW8zcYmP4px',\n",
       "   'amount': 354000000000,\n",
       "   'decimals': 9},\n",
       "  {'tokenAccount': '37vryqQ6z4j7sdAJjTMAmzVKDkadzi4ZGcVoPkoToVqb',\n",
       "   'mint': 'EPjFWdd5AufqSSqeM2qN1xzybapC8G4wEGGkZwyTDt1v',\n",
       "   'amount': 33378,\n",
       "   'decimals': 6},\n",
       "  {'tokenAccount': '8kuTaQgk46Wo7PCuXfZuySEP85fZRgVbvCXkAfwVmt9S',\n",
       "   'mint': 'Hk82ay38uGpYgqjdXXCiATavVQwAMaBNyxsUWbapmKuL',\n",
       "   'amount': 1000000000,\n",
       "   'decimals': 6},\n",
       "  {'tokenAccount': 'GXnj7rSQtBUWcQbeP5QEyKJyv4br64uckb8xsS1sBY11',\n",
       "   'mint': 'G4hdrdhnboNgFXo1uP21VwZ9zrNbxwZDmtpZt2Mnpump',\n",
       "   'amount': 12126567051,\n",
       "   'decimals': 6},\n",
       "  {'tokenAccount': '6XWCWkwCdbBTzK5GrtTCVRQqXaB2QGuDHqZsXEt9KbBo',\n",
       "   'mint': 'EWx3xDR76YfxF3VHwTLgwU9WYrwANw3yxX5vvk8Kpump',\n",
       "   'amount': 119000000,\n",
       "   'decimals': 6},\n",
       "  {'tokenAccount': '5Kii5utYQ31sMTH61EiUk3sEsjsxLdf3emEapPtt5oqx',\n",
       "   'mint': 'H3c9RZhvCzxQSmLULh4RsJC8GuK9rVNV2bcoLhMQmoon',\n",
       "   'amount': 0,\n",
       "   'decimals': 9},\n",
       "  {'tokenAccount': 'yUust47qP81xa2aLy9pUodUw1AfoDbezfse4yGw7Wzz',\n",
       "   'mint': 'HAPPYwgFcjEJDzRtfWE6tiHE9zGdzpNky2FvjPHsvvGZ',\n",
       "   'amount': 0,\n",
       "   'decimals': 9},\n",
       "  {'tokenAccount': 'BCLg84ranBtCtNdJW4CvYMoJPqqHSUFmjCmiyBDDt4MM',\n",
       "   'mint': '2qAx8nkVedYNNff19N4CZZJT66etYgSyWcYvNasGpump',\n",
       "   'amount': 0,\n",
       "   'decimals': 6},\n",
       "  {'tokenAccount': '4yLdi6X9xLRV3eezR3raibRoeAxotJA3n29uEsRfoNHL',\n",
       "   'mint': 'Em9zr2tgSmGgRbz3kxyQeRXjRi9oc13wMu6cKam4zWFW',\n",
       "   'amount': 74500000,\n",
       "   'decimals': 6},\n",
       "  {'tokenAccount': '2nKanNe6tDM5aXc2ZNvYeVKpdw4Y26dvzS19FmPiJJ4S',\n",
       "   'mint': 'JD8gUc2qfvmwxtttRviHSRZ4pbGKy5nha2vdEULwx3r5',\n",
       "   'amount': 3888000000,\n",
       "   'decimals': 6},\n",
       "  {'tokenAccount': '2szUXuiZi1TNXaEVfyoezJ8nWigyrB3DmqTz7sbvmqbf',\n",
       "   'mint': '47ixSEoXn9KUnZ9FjCD78NSWDd4RxKUjcwSSYMSnpump',\n",
       "   'amount': 0,\n",
       "   'decimals': 6},\n",
       "  {'tokenAccount': 'HSrx5V9PUuazeuen6ZYaid2o1KUbiLwDaRmJdjBmqrJZ',\n",
       "   'mint': 'HD1sDvk9jjUgRv6XmVYje7ghV3udzCZhotgxSortBdga',\n",
       "   'amount': 1434339522508,\n",
       "   'decimals': 9}],\n",
       " 'nativeBalance': 28313564}"
      ]
     },
     "execution_count": 15,
     "metadata": {},
     "output_type": "execute_result"
    }
   ],
   "source": [
    "balances_api.get_balances(\"hq8fC9VkxU6rv1QvMUkGKbhFR3MxSd7nCkCGaaXx9MA\")"
   ]
  },
  {
   "cell_type": "code",
   "execution_count": null,
   "metadata": {},
   "outputs": [],
   "source": [
    "balances_api = BalancesAPI(HELIUS_API_KEY)\n",
    "balances_api"
   ]
  }
 ],
 "metadata": {
  "kernelspec": {
   "display_name": "solana_analysis_tool_env",
   "language": "python",
   "name": "solana_analysis_tool_env"
  },
  "language_info": {
   "codemirror_mode": {
    "name": "ipython",
    "version": 3
   },
   "file_extension": ".py",
   "mimetype": "text/x-python",
   "name": "python",
   "nbconvert_exporter": "python",
   "pygments_lexer": "ipython3",
   "version": "3.12.4"
  }
 },
 "nbformat": 4,
 "nbformat_minor": 4
}
