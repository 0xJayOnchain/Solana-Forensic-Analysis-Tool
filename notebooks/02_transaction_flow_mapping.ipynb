{
 "cells": [
  {
   "cell_type": "code",
   "execution_count": 1,
   "id": "d954e844",
   "metadata": {},
   "outputs": [
    {
     "name": "stdout",
     "output_type": "stream",
     "text": [
      "            timestamp                                          signature      type          source tx_status direction                                        sender                                      receiver                                  counterparty  Native SOL Amount token_address  token_amount  block_number    tx_fee                        program_id  PRE_BALANCE  POST_BALANCE SYMBOL TOKEN_NAME                                         MINT      sender_name    receiver_name counterparty_name     program_name wallet_entity_label\n",
      "0 2025-04-06 12:12:19  6mpqrks4akyjez3jljjubhswnb96oijdfx1dgeznzebhxm...  TRANSFER  SYSTEM_PROGRAM   success  received  5Hr7wZg7oBpVhH5nngRqzr5W7ZFUfCsfEhbziZJak7fr  AGPZnBZUxmhAtcp8XjT4n8bCia9dEYhhm16M2sfFvmTU  5Hr7wZg7oBpVhH5nngRqzr5W7ZFUfCsfEhbziZJak7fr       1.000000e-09          None           NaN   331670303.0  0.000006  11111111111111111111111111111111     0.017773      0.017773    SOL     Solana  So11111111111111111111111111111111111111111  Unknown Address  Unknown Address   Unknown Address  Unknown Program      Unknown Entity\n",
      "0 2025-04-06 00:10:50  29ap1yrcx2dbjm4mxk8257g5e87by7cgxysds6liaamsxx...  TRANSFER  SYSTEM_PROGRAM   success  received  FLiPgGTXtBtEJoytikaywvWgbz5a56DdHKZU72HSYMFF  AGPZnBZUxmhAtcp8XjT4n8bCia9dEYhhm16M2sfFvmTU  FLiPgGTXtBtEJoytikaywvWgbz5a56DdHKZU72HSYMFF       1.000000e-09          None           NaN   331561835.0  0.000005  11111111111111111111111111111111     0.017773      0.017773    SOL     Solana  So11111111111111111111111111111111111111111  Unknown Address  Unknown Address   Unknown Address  Unknown Program      Unknown Entity\n",
      "0 2025-04-06 00:10:45  2d7d4ndxhzfwz6trn6pzy7pqefkrktqhqjq1zpz5myndvs...  TRANSFER  SYSTEM_PROGRAM   success  received  FLiPGqowc82LLR173hKiFYBq2fCxLZEST5iHbHwj8xKb  AGPZnBZUxmhAtcp8XjT4n8bCia9dEYhhm16M2sfFvmTU  FLiPGqowc82LLR173hKiFYBq2fCxLZEST5iHbHwj8xKb       1.000000e-09          None           NaN   331561822.0  0.000005  11111111111111111111111111111111     0.017773      0.017773    SOL     Solana  So11111111111111111111111111111111111111111  Unknown Address  Unknown Address   Unknown Address  Unknown Program      Unknown Entity\n",
      "0 2025-04-05 23:38:43  nprzwng7slnepcpebwjemkadd6wnuwscrgeweqsnshiznn...  TRANSFER  SYSTEM_PROGRAM   success  received  6UgXZZBoydXRNX6SLjwFDUUgn19GhjBpvNAXU3iepzUV  AGPZnBZUxmhAtcp8XjT4n8bCia9dEYhhm16M2sfFvmTU  6UgXZZBoydXRNX6SLjwFDUUgn19GhjBpvNAXU3iepzUV       1.000000e-05          None           NaN   331557009.0  0.000005  11111111111111111111111111111111     0.017763      0.017773    SOL     Solana  So11111111111111111111111111111111111111111  Unknown Address  Unknown Address   Unknown Address  Unknown Program      Unknown Entity\n",
      "0 2025-04-05 23:38:25  yqsamwung3pc9h5ezjmtr1mudcuuajzye13bmfas2atlvc...  TRANSFER  SYSTEM_PROGRAM   success  received  GUq7PhyAUZko2mPhv3CupmdJKQ61LH8VyrdsRL25q7zg  AGPZnBZUxmhAtcp8XjT4n8bCia9dEYhhm16M2sfFvmTU  GUq7PhyAUZko2mPhv3CupmdJKQ61LH8VyrdsRL25q7zg       2.000000e-09          None           NaN   331556964.0  0.000005  11111111111111111111111111111111     0.017763      0.017763    SOL     Solana  So11111111111111111111111111111111111111111  Unknown Address  Unknown Address   Unknown Address  Unknown Program      Unknown Entity\n"
     ]
    }
   ],
   "source": [
    "import pandas as pd\n",
    "import numpy as np\n",
    "from datetime import datetime\n",
    "\n",
    "%store -r tx_level_data\n",
    "\n",
    "pd.set_option('display.width', 200)  # Set a large width\n",
    "pd.set_option('display.max_columns', None)  # Show all columns\n",
    "pd.set_option('display.expand_frame_repr', False)  # Prevent line wrapping\n",
    "\n",
    "\n",
    "\n",
    "print(tx_level_data.head())"
   ]
  },
  {
   "cell_type": "code",
   "execution_count": 2,
   "id": "047cdf3f",
   "metadata": {},
   "outputs": [
    {
     "data": {
      "text/plain": [
       "['timestamp',\n",
       " 'signature',\n",
       " 'type',\n",
       " 'source',\n",
       " 'tx_status',\n",
       " 'direction',\n",
       " 'sender',\n",
       " 'receiver',\n",
       " 'counterparty',\n",
       " 'Native SOL Amount',\n",
       " 'token_address',\n",
       " 'token_amount',\n",
       " 'block_number',\n",
       " 'tx_fee',\n",
       " 'program_id',\n",
       " 'PRE_BALANCE',\n",
       " 'POST_BALANCE',\n",
       " 'SYMBOL',\n",
       " 'TOKEN_NAME',\n",
       " 'MINT',\n",
       " 'sender_name',\n",
       " 'receiver_name',\n",
       " 'counterparty_name',\n",
       " 'program_name',\n",
       " 'wallet_entity_label']"
      ]
     },
     "execution_count": 2,
     "metadata": {},
     "output_type": "execute_result"
    }
   ],
   "source": [
    "tx_level_data.columns.to_list()"
   ]
  },
  {
   "cell_type": "markdown",
   "id": "bae59105",
   "metadata": {},
   "source": [
    "# Data Cleaning "
   ]
  },
  {
   "cell_type": "code",
   "execution_count": 3,
   "id": "200a20d7",
   "metadata": {},
   "outputs": [],
   "source": [
    "def clean_tx_data(df: pd.DataFrame) -> pd.DataFrame:\n",
    "    # Drop duplicates\n",
    "    df = df.drop_duplicates(subset=['signature'])\n",
    "\n",
    "    # Fill missing wallet names and labels with 'Unknown'\n",
    "    # Fill name fields with wallet addresses if 'Unknown Address'\n",
    "    df['sender_name'] = np.where(\n",
    "        df['sender_name'] == 'Unknown Address',\n",
    "        df['sender'].str.slice(0, 6),\n",
    "        df['sender_name']\n",
    "    )\n",
    "    df['receiver_name'] = np.where(\n",
    "        df['receiver_name'] == 'Unknown Address',\n",
    "        df['receiver'].str.slice(0, 6),\n",
    "        df['receiver_name']\n",
    "    )\n",
    "    df['counterparty_name'] = np.where(\n",
    "        df['counterparty_name'] == 'Unknown Address',\n",
    "        df['counterparty'].str.slice(0, 6),\n",
    "        df['counterparty_name']\n",
    "    )\n",
    "    \n",
    "    # Fill missing wallet_entity_label with 'Unknown'\n",
    "    df['wallet_entity_label'] = df['wallet_entity_label'].fillna('Unknown Address')\n",
    "    \n",
    "    # Convert timestamp to datetime object\n",
    "    df['timestamp'] = pd.to_datetime(df['timestamp'])\n",
    "\n",
    "    # 4. Filter for successful SOL transfers\n",
    "    df = df[\n",
    "        (df['tx_status'] == 'success') ]\n",
    "    \n",
    "    # 5. Remove duplicates based on signature\n",
    "    df = df.drop_duplicates(subset=['signature'])\n",
    "    \n",
    "    # 6. Reset index\n",
    "    df = df.reset_index(drop=True)\n",
    "\n",
    "\n",
    "    # Ensure numerical columns are clean\n",
    "    numeric_cols = ['Native SOL Amount', 'token_amount', 'tx_fee', 'PRE_BALANCE', 'POST_BALANCE']\n",
    "    for col in numeric_cols:\n",
    "        df[col] = pd.to_numeric(df[col], errors='coerce').fillna(0)\n",
    "\n",
    "    return df"
   ]
  },
  {
   "cell_type": "markdown",
   "id": "b75f4986",
   "metadata": {},
   "source": [
    "# Transaction Flow Aggregation"
   ]
  },
  {
   "cell_type": "code",
   "execution_count": 4,
   "id": "ed42bbec",
   "metadata": {},
   "outputs": [],
   "source": [
    "def build_tx_graph(df: pd.DataFrame):\n",
    "    nodes = {}\n",
    "    edges = []\n",
    "\n",
    "    for _, row in df.iterrows():\n",
    "        sender = row['sender']\n",
    "        receiver = row['receiver']\n",
    "        pre_balance = row['PRE_BALANCE'] or 0\n",
    "        post_balance = row['POST_BALANCE'] or 0\n",
    "        net_change = post_balance - pre_balance\n",
    "        native_amount = row['Native SOL Amount'] or 0\n",
    "\n",
    "        # Add sender node\n",
    "        if sender not in nodes:\n",
    "            nodes[sender] = {\n",
    "                \"id\": sender,\n",
    "                \"label\": row['sender_name'],\n",
    "                \"entity\": row['wallet_entity_label'],\n",
    "                \"type\": \"sender\",\n",
    "                \"pre_balance\": pre_balance,\n",
    "                \"post_balance\": post_balance,\n",
    "                \"net_balance_change\": net_change,\n",
    "                \"native_sol_amount\": native_amount\n",
    "            }\n",
    "        else:\n",
    "            # Accumulate net change and balances if already added\n",
    "            nodes[sender][\"pre_balance\"] = min(nodes[sender][\"pre_balance\"], pre_balance)\n",
    "            nodes[sender][\"post_balance\"] = max(nodes[sender][\"post_balance\"], post_balance)\n",
    "            nodes[sender][\"net_balance_change\"] += net_change\n",
    "            nodes[sender][\"native_sol_amount\"] += native_amount\n",
    "            \n",
    "        # Add receiver node\n",
    "        if receiver not in nodes:\n",
    "            nodes[receiver] = {\n",
    "                \"id\": receiver,\n",
    "                \"label\": row['receiver_name'],\n",
    "                \"entity\": row['wallet_entity_label'],\n",
    "                \"type\": \"receiver\",\n",
    "                \"pre_balance\": pre_balance,\n",
    "                \"post_balance\": post_balance,\n",
    "                \"net_balance_change\": net_change,\n",
    "                \"native_sol_amount\": native_amount\n",
    "            }\n",
    "        else:\n",
    "            # Accumulate if already added\n",
    "            nodes[receiver][\"pre_balance\"] = min(nodes[receiver][\"pre_balance\"], pre_balance)\n",
    "            nodes[receiver][\"post_balance\"] = max(nodes[receiver][\"post_balance\"], post_balance)\n",
    "            nodes[receiver][\"net_balance_change\"] += net_change\n",
    "            nodes[receiver][\"native_sol_amount\"] += native_amount\n",
    "\n",
    "\n",
    "\n",
    "        # Create edge\n",
    "        edge = {\n",
    "            \"source\": sender,\n",
    "            \"target\": receiver,\n",
    "            \"amount\": native_amount or row['token_amount'],\n",
    "            \"symbol\": row['SYMBOL'],\n",
    "            \"token\": row['TOKEN_NAME'],\n",
    "            \"timestamp\": row['timestamp'].isoformat(),\n",
    "            \"tx_type\": row['type'],\n",
    "            \"program\": row['program_name'],\n",
    "            \"signature\": row['signature']\n",
    "        }\n",
    "        edges.append(edge)\n",
    "\n",
    "    return {\n",
    "        \"nodes\": list(nodes.values()),\n",
    "        \"edges\": edges\n",
    "    }"
   ]
  },
  {
   "cell_type": "code",
   "execution_count": 5,
   "id": "133a707e",
   "metadata": {},
   "outputs": [
    {
     "name": "stdout",
     "output_type": "stream",
     "text": [
      "✅ Cleaned and graph data saved to tx_graph.json\n"
     ]
    }
   ],
   "source": [
    "# Example usage\n",
    "if __name__ == \"__main__\":\n",
    "\n",
    "\n",
    "    tx_level_data_clean = clean_tx_data(tx_level_data)\n",
    "    tx_graph = build_tx_graph(tx_level_data_clean)\n",
    "\n",
    "    # Export to JSON for frontend use\n",
    "    import json\n",
    "    with open(\"tx_graph.json\", \"w\") as f:\n",
    "        json.dump(tx_graph, f, indent=2, default=str)\n",
    "\n",
    "    print(\"✅ Cleaned and graph data saved to tx_graph.json\")"
   ]
  }
 ],
 "metadata": {
  "kernelspec": {
   "display_name": "solana-forensics",
   "language": "python",
   "name": "python3"
  },
  "language_info": {
   "codemirror_mode": {
    "name": "ipython",
    "version": 3
   },
   "file_extension": ".py",
   "mimetype": "text/x-python",
   "name": "python",
   "nbconvert_exporter": "python",
   "pygments_lexer": "ipython3",
   "version": "3.13.2"
  }
 },
 "nbformat": 4,
 "nbformat_minor": 5
}
