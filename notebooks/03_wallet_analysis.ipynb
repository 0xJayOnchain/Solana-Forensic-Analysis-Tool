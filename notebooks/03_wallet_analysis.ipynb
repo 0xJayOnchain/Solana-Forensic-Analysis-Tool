{
 "cells": [
  {
   "cell_type": "code",
   "execution_count": 1,
   "id": "a60d9acf",
   "metadata": {},
   "outputs": [],
   "source": [
    "import pandas as pd \n",
    "import ast "
   ]
  },
  {
   "cell_type": "code",
   "execution_count": 2,
   "id": "7d159901",
   "metadata": {},
   "outputs": [],
   "source": [
    "test_wallet_timeseries = pd.read_csv('../data/test_acc_timeseries.csv')"
   ]
  },
  {
   "cell_type": "code",
   "execution_count": 3,
   "id": "00367c84",
   "metadata": {},
   "outputs": [
    {
     "data": {
      "text/plain": [
       "493"
      ]
     },
     "execution_count": 3,
     "metadata": {},
     "output_type": "execute_result"
    }
   ],
   "source": [
    "test_wallet_timeseries\n",
    "\n",
    "total_tx = len(test_wallet_timeseries['signature'].unique())\n",
    "total_tx"
   ]
  },
  {
   "cell_type": "code",
   "execution_count": 4,
   "id": "62592fcd-17a7-4421-ac3a-c23a914b42e1",
   "metadata": {},
   "outputs": [
    {
     "data": {
      "text/plain": [
       "array(['received', 'sent', nan], dtype=object)"
      ]
     },
     "execution_count": 4,
     "metadata": {},
     "output_type": "execute_result"
    }
   ],
   "source": [
    "test_wallet_timeseries['direction'].unique()"
   ]
  },
  {
   "cell_type": "code",
   "execution_count": 5,
   "id": "140dd4b2-bfa5-427c-8a63-3315c38f22c3",
   "metadata": {},
   "outputs": [],
   "source": [
    "received_tx = test_wallet_timeseries[test_wallet_timeseries['direction']=='received']\n",
    "sent_tx = test_wallet_timeseries[test_wallet_timeseries['direction']=='sent']"
   ]
  },
  {
   "cell_type": "code",
   "execution_count": 6,
   "id": "492c3ac2-6c3e-4f92-965e-7fa5ee90ae1c",
   "metadata": {},
   "outputs": [
    {
     "data": {
      "text/plain": [
       "\"{'SOL': -0.0021924, '2b1kV6DkPAnxd5ixfnxCpjxmKwqjjaYmCZfHsFu24GXo': -128.319372}\""
      ]
     },
     "execution_count": 6,
     "metadata": {},
     "output_type": "execute_result"
    }
   ],
   "source": [
    "sent_tx['net_token_flows'].iloc[0]\n"
   ]
  },
  {
   "cell_type": "code",
   "execution_count": 7,
   "id": "072b4b5d",
   "metadata": {},
   "outputs": [
    {
     "data": {
      "text/plain": [
       "\"{'Es9vMFrzaCERmJfrF4H2FYD4KCoNkY11McCe8BenwNYB': -129.499459, '2b1kV6DkPAnxd5ixfnxCpjxmKwqjjaYmCZfHsFu24GXo': 128.319372}\""
      ]
     },
     "execution_count": 7,
     "metadata": {},
     "output_type": "execute_result"
    }
   ],
   "source": [
    "sent_tx['net_token_flows'].iloc[1]\n"
   ]
  },
  {
   "cell_type": "code",
   "execution_count": 8,
   "id": "25b5cb80",
   "metadata": {},
   "outputs": [
    {
     "data": {
      "text/plain": [
       "\"{'SOL': -0.005, 'So11111111111111111111111111111111111111112': -0.005, 'J1toso1uCk3RLmjorhTtrVwY9HJ7X8V9yYac6Y7kGCPn': 0.004164116}\""
      ]
     },
     "execution_count": 8,
     "metadata": {},
     "output_type": "execute_result"
    }
   ],
   "source": [
    "sent_tx['net_token_flows'].iloc[2]\n"
   ]
  },
  {
   "cell_type": "code",
   "execution_count": 9,
   "id": "bacb81ba-4f50-469b-8a25-2a33a5140b24",
   "metadata": {},
   "outputs": [
    {
     "data": {
      "text/plain": [
       "[\"{'SOL': -0.0021924, '2b1kV6DkPAnxd5ixfnxCpjxmKwqjjaYmCZfHsFu24GXo': -128.319372}\",\n",
       " \"{'Es9vMFrzaCERmJfrF4H2FYD4KCoNkY11McCe8BenwNYB': -129.499459, '2b1kV6DkPAnxd5ixfnxCpjxmKwqjjaYmCZfHsFu24GXo': 128.319372}\",\n",
       " \"{'SOL': -0.005, 'So11111111111111111111111111111111111111112': -0.005, 'J1toso1uCk3RLmjorhTtrVwY9HJ7X8V9yYac6Y7kGCPn': 0.004164116}\",\n",
       " \"{'SOL': -0.0021924, '2b1kV6DkPAnxd5ixfnxCpjxmKwqjjaYmCZfHsFu24GXo': -493.070747}\",\n",
       " \"{'Es9vMFrzaCERmJfrF4H2FYD4KCoNkY11McCe8BenwNYB': -497.448706, '2b1kV6DkPAnxd5ixfnxCpjxmKwqjjaYmCZfHsFu24GXo': 493.070747}\"]"
      ]
     },
     "execution_count": 9,
     "metadata": {},
     "output_type": "execute_result"
    }
   ],
   "source": [
    "sent_tx['net_token_flows'].dropna().head(5).tolist()\n"
   ]
  },
  {
   "cell_type": "code",
   "execution_count": 10,
   "id": "1d94a4ef-8b82-494a-b1a7-ceb22335bfd3",
   "metadata": {},
   "outputs": [
    {
     "name": "stdout",
     "output_type": "stream",
     "text": [
      "Raw value: {'SOL': -0.0021924, '2b1kV6DkPAnxd5ixfnxCpjxmKwqjjaYmCZfHsFu24GXo': -128.319372}\n"
     ]
    }
   ],
   "source": [
    "sample = sent_tx['net_token_flows'].dropna().iloc[0]\n",
    "print(\"Raw value:\", sample)"
   ]
  },
  {
   "cell_type": "code",
   "execution_count": 11,
   "id": "05a0a224-e2f9-4157-bd8d-14fcaf32d19a",
   "metadata": {},
   "outputs": [
    {
     "name": "stdout",
     "output_type": "stream",
     "text": [
      "Parsed dict: {'SOL': -0.0021924, '2b1kV6DkPAnxd5ixfnxCpjxmKwqjjaYmCZfHsFu24GXo': -128.319372}\n"
     ]
    }
   ],
   "source": [
    "if isinstance(sample, str):\n",
    "    try:\n",
    "        parsed = ast.literal_eval(sample)\n",
    "        print(\"Parsed dict:\", parsed)\n",
    "    except Exception as e:\n",
    "        print(\"Failed to parse:\", e)"
   ]
  },
  {
   "cell_type": "code",
   "execution_count": 12,
   "id": "5daf6f30-eea3-495b-961e-53d06adf434d",
   "metadata": {},
   "outputs": [
    {
     "name": "stdout",
     "output_type": "stream",
     "text": [
      "✅ 136 non-empty dicts found\n",
      "Sample dict: {'SOL': -0.0021924, '2b1kV6DkPAnxd5ixfnxCpjxmKwqjjaYmCZfHsFu24GXo': -128.319372}\n"
     ]
    }
   ],
   "source": [
    "import ast\n",
    "\n",
    "parsed_flows = sent_tx['net_token_flows'].apply(lambda x: ast.literal_eval(x) if isinstance(x, str) else x)\n",
    "valid_dicts = [d for d in parsed_flows if isinstance(d, dict) and d]\n",
    "print(f\"✅ {len(valid_dicts)} non-empty dicts found\")\n",
    "\n",
    "if valid_dicts:\n",
    "    print(\"Sample dict:\", valid_dicts[0])"
   ]
  },
  {
   "cell_type": "code",
   "execution_count": 13,
   "id": "12ca6f50-755f-40d9-ab6f-94f19cd9fe1e",
   "metadata": {},
   "outputs": [
    {
     "data": {
      "text/plain": [
       "{'EPjFWdd5AufqSSqeM2qN1xzybapC8G4wEGGkZwyTDt1v': 152.548166,\n",
       " '9HB4kAMLSYfGFfN142DKMyPyHyZQ8pXF8M1STbDudodY': 38.261386,\n",
       " 'bSo13r4TkiE4KumL71LsHTPpL2euBYLFx6h9HP3piy1': 5.262743093000001,\n",
       " 'So11111111111111111111111111111111111111112': 1.8685639759999997}"
      ]
     },
     "execution_count": 13,
     "metadata": {},
     "output_type": "execute_result"
    }
   ],
   "source": [
    "from collections import Counter\n",
    "import ast\n",
    "\n",
    "# Parse strings into dictionaries safely\n",
    "parsed_flows = sent_tx['net_token_flows'].apply(lambda x: ast.literal_eval(x) if isinstance(x, str) else x)\n",
    "\n",
    "# Sum all values grouped by token address\n",
    "total_flows = sum((Counter(flow) for flow in parsed_flows if isinstance(flow, dict)), Counter())\n",
    "\n",
    "# Sort by absolute value descending (optional)\n",
    "sorted_flows = dict(sorted(total_flows.items(), key=lambda item: abs(item[1]), reverse=True))\n",
    "\n",
    "sorted_flows\n"
   ]
  },
  {
   "cell_type": "code",
   "execution_count": 14,
   "id": "0f9457f8-b847-4786-95f8-0991c0d4b277",
   "metadata": {},
   "outputs": [
    {
     "data": {
      "text/plain": [
       "[{'SOL': -0.0021924,\n",
       "  '2b1kV6DkPAnxd5ixfnxCpjxmKwqjjaYmCZfHsFu24GXo': -128.319372},\n",
       " {'Es9vMFrzaCERmJfrF4H2FYD4KCoNkY11McCe8BenwNYB': -129.499459,\n",
       "  '2b1kV6DkPAnxd5ixfnxCpjxmKwqjjaYmCZfHsFu24GXo': 128.319372},\n",
       " {'SOL': -0.005,\n",
       "  'So11111111111111111111111111111111111111112': -0.005,\n",
       "  'J1toso1uCk3RLmjorhTtrVwY9HJ7X8V9yYac6Y7kGCPn': 0.004164116},\n",
       " {'SOL': -0.0021924,\n",
       "  '2b1kV6DkPAnxd5ixfnxCpjxmKwqjjaYmCZfHsFu24GXo': -493.070747},\n",
       " {'Es9vMFrzaCERmJfrF4H2FYD4KCoNkY11McCe8BenwNYB': -497.448706,\n",
       "  '2b1kV6DkPAnxd5ixfnxCpjxmKwqjjaYmCZfHsFu24GXo': 493.070747}]"
      ]
     },
     "execution_count": 14,
     "metadata": {},
     "output_type": "execute_result"
    }
   ],
   "source": [
    "parsed_flows = sent_tx['net_token_flows'].apply(lambda x: ast.literal_eval(x) if isinstance(x, str) else x)\n",
    "parsed_flows.head(5).tolist()\n"
   ]
  },
  {
   "cell_type": "code",
   "execution_count": 15,
   "id": "81981d57-c09c-41ef-8362-948ace46bb5d",
   "metadata": {},
   "outputs": [
    {
     "name": "stdout",
     "output_type": "stream",
     "text": [
      "✅ Found 136 dicts\n",
      "Sample: {'SOL': -0.0021924, '2b1kV6DkPAnxd5ixfnxCpjxmKwqjjaYmCZfHsFu24GXo': -128.319372}\n"
     ]
    }
   ],
   "source": [
    "valid_flows = [d for d in parsed_flows if isinstance(d, dict)]\n",
    "print(f\"✅ Found {len(valid_flows)} dicts\")\n",
    "print(\"Sample:\", valid_flows[0])\n"
   ]
  },
  {
   "cell_type": "code",
   "execution_count": 16,
   "id": "c34ad339-48d4-4b93-aa14-3a1e1d62e0dd",
   "metadata": {},
   "outputs": [
    {
     "name": "stdout",
     "output_type": "stream",
     "text": [
      "{'WENWENvqqNya429ubCdR81ZmD69brwQaaBYY6p3LCpk': -1287304.0, 'Es9vMFrzaCERmJfrF4H2FYD4KCoNkY11McCe8BenwNYB': -6688.240062000001, '2zMMhcVQEXDtdE6vsFS7S7D5oUodfJHE8vd1gnBouauv': -3490.0, '2b1kV6DkPAnxd5ixfnxCpjxmKwqjjaYmCZfHsFu24GXo': -2055.9510000000005, 'EPjFWdd5AufqSSqeM2qN1xzybapC8G4wEGGkZwyTDt1v': -1976.4328239999998, '9HB4kAMLSYfGFfN142DKMyPyHyZQ8pXF8M1STbDudodY': -151.38026299999996, 'SOL': -31.675079503999992, 'So11111111111111111111111111111111111111112': -26.586492489000005, 'bSo13r4TkiE4KumL71LsHTPpL2euBYLFx6h9HP3piy1': 5.262743093000001, 'J1toso1uCk3RLmjorhTtrVwY9HJ7X8V9yYac6Y7kGCPn': -1.1226087359999999, 'mSoLzYCxHdYgdzU16g5QSh3i5K3z3KZK7ytfqcJm7So': -0.170000021, '9uvxPXzVYWe8qb7S4gUBqsvASmRMVWo5GSAcMmdZ1LQr': 0.0, '7dHbWXmci3dT8UFYWYZweBLXgycu7Y3iL6trKn1Y7ARj': 0.0}\n"
     ]
    }
   ],
   "source": [
    "from collections import defaultdict\n",
    "\n",
    "agg = defaultdict(float)\n",
    "\n",
    "for d in valid_flows:\n",
    "    for token, amount in d.items():\n",
    "        agg[token] += amount\n",
    "\n",
    "# Optionally sort by absolute value\n",
    "sorted_flows = dict(sorted(agg.items(), key=lambda x: abs(x[1]), reverse=True))\n",
    "print(sorted_flows)"
   ]
  },
  {
   "cell_type": "code",
   "execution_count": 17,
   "id": "591b18d8-a2e5-46de-ac38-4191143330a4",
   "metadata": {},
   "outputs": [
    {
     "data": {
      "text/html": [
       "<div>\n",
       "<style scoped>\n",
       "    .dataframe tbody tr th:only-of-type {\n",
       "        vertical-align: middle;\n",
       "    }\n",
       "\n",
       "    .dataframe tbody tr th {\n",
       "        vertical-align: top;\n",
       "    }\n",
       "\n",
       "    .dataframe thead th {\n",
       "        text-align: right;\n",
       "    }\n",
       "</style>\n",
       "<table border=\"1\" class=\"dataframe\">\n",
       "  <thead>\n",
       "    <tr style=\"text-align: right;\">\n",
       "      <th></th>\n",
       "      <th>WENWENvqqNya429ubCdR81ZmD69brwQaaBYY6p3LCpk</th>\n",
       "      <th>Es9vMFrzaCERmJfrF4H2FYD4KCoNkY11McCe8BenwNYB</th>\n",
       "      <th>2zMMhcVQEXDtdE6vsFS7S7D5oUodfJHE8vd1gnBouauv</th>\n",
       "      <th>2b1kV6DkPAnxd5ixfnxCpjxmKwqjjaYmCZfHsFu24GXo</th>\n",
       "      <th>EPjFWdd5AufqSSqeM2qN1xzybapC8G4wEGGkZwyTDt1v</th>\n",
       "      <th>9HB4kAMLSYfGFfN142DKMyPyHyZQ8pXF8M1STbDudodY</th>\n",
       "      <th>SOL</th>\n",
       "      <th>So11111111111111111111111111111111111111112</th>\n",
       "      <th>bSo13r4TkiE4KumL71LsHTPpL2euBYLFx6h9HP3piy1</th>\n",
       "      <th>J1toso1uCk3RLmjorhTtrVwY9HJ7X8V9yYac6Y7kGCPn</th>\n",
       "      <th>mSoLzYCxHdYgdzU16g5QSh3i5K3z3KZK7ytfqcJm7So</th>\n",
       "      <th>9uvxPXzVYWe8qb7S4gUBqsvASmRMVWo5GSAcMmdZ1LQr</th>\n",
       "      <th>7dHbWXmci3dT8UFYWYZweBLXgycu7Y3iL6trKn1Y7ARj</th>\n",
       "    </tr>\n",
       "  </thead>\n",
       "  <tbody>\n",
       "    <tr>\n",
       "      <th>0</th>\n",
       "      <td>-1287304.0</td>\n",
       "      <td>-6688.240062</td>\n",
       "      <td>-3490.0</td>\n",
       "      <td>-2055.951</td>\n",
       "      <td>-1976.432824</td>\n",
       "      <td>-151.380263</td>\n",
       "      <td>-31.67508</td>\n",
       "      <td>-26.586492</td>\n",
       "      <td>5.262743</td>\n",
       "      <td>-1.122609</td>\n",
       "      <td>-0.17</td>\n",
       "      <td>0.0</td>\n",
       "      <td>0.0</td>\n",
       "    </tr>\n",
       "  </tbody>\n",
       "</table>\n",
       "</div>"
      ],
      "text/plain": [
       "   WENWENvqqNya429ubCdR81ZmD69brwQaaBYY6p3LCpk  \\\n",
       "0                                   -1287304.0   \n",
       "\n",
       "   Es9vMFrzaCERmJfrF4H2FYD4KCoNkY11McCe8BenwNYB  \\\n",
       "0                                  -6688.240062   \n",
       "\n",
       "   2zMMhcVQEXDtdE6vsFS7S7D5oUodfJHE8vd1gnBouauv  \\\n",
       "0                                       -3490.0   \n",
       "\n",
       "   2b1kV6DkPAnxd5ixfnxCpjxmKwqjjaYmCZfHsFu24GXo  \\\n",
       "0                                     -2055.951   \n",
       "\n",
       "   EPjFWdd5AufqSSqeM2qN1xzybapC8G4wEGGkZwyTDt1v  \\\n",
       "0                                  -1976.432824   \n",
       "\n",
       "   9HB4kAMLSYfGFfN142DKMyPyHyZQ8pXF8M1STbDudodY       SOL  \\\n",
       "0                                   -151.380263 -31.67508   \n",
       "\n",
       "   So11111111111111111111111111111111111111112  \\\n",
       "0                                   -26.586492   \n",
       "\n",
       "   bSo13r4TkiE4KumL71LsHTPpL2euBYLFx6h9HP3piy1  \\\n",
       "0                                     5.262743   \n",
       "\n",
       "   J1toso1uCk3RLmjorhTtrVwY9HJ7X8V9yYac6Y7kGCPn  \\\n",
       "0                                     -1.122609   \n",
       "\n",
       "   mSoLzYCxHdYgdzU16g5QSh3i5K3z3KZK7ytfqcJm7So  \\\n",
       "0                                        -0.17   \n",
       "\n",
       "   9uvxPXzVYWe8qb7S4gUBqsvASmRMVWo5GSAcMmdZ1LQr  \\\n",
       "0                                           0.0   \n",
       "\n",
       "   7dHbWXmci3dT8UFYWYZweBLXgycu7Y3iL6trKn1Y7ARj  \n",
       "0                                           0.0  "
      ]
     },
     "execution_count": 17,
     "metadata": {},
     "output_type": "execute_result"
    }
   ],
   "source": [
    "pd.DataFrame([sorted_flows])"
   ]
  },
  {
   "cell_type": "code",
   "execution_count": null,
   "id": "f65efb06-859b-4157-9d98-d0c7e2af5d26",
   "metadata": {},
   "outputs": [],
   "source": []
  }
 ],
 "metadata": {
  "kernelspec": {
   "display_name": "solana_analysis_tool_env",
   "language": "python",
   "name": "solana_analysis_tool_env"
  },
  "language_info": {
   "codemirror_mode": {
    "name": "ipython",
    "version": 3
   },
   "file_extension": ".py",
   "mimetype": "text/x-python",
   "name": "python",
   "nbconvert_exporter": "python",
   "pygments_lexer": "ipython3",
   "version": "3.11.9"
  }
 },
 "nbformat": 4,
 "nbformat_minor": 5
}
