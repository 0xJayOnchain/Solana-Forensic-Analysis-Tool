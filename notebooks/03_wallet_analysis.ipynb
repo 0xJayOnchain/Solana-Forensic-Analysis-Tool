{
 "cells": [
  {
   "cell_type": "code",
   "execution_count": 1,
   "id": "a60d9acf",
   "metadata": {},
   "outputs": [],
   "source": [
    "import pandas as pd \n",
    "import ast "
   ]
  },
  {
   "cell_type": "code",
   "execution_count": 2,
   "id": "5e18b648",
   "metadata": {},
   "outputs": [],
   "source": [
    "test_address = 'AGPZnBZUxmhAtcp8XjT4n8bCia9dEYhhm16M2sfFvmTU'"
   ]
  },
  {
   "cell_type": "code",
   "execution_count": 3,
   "id": "7d159901",
   "metadata": {},
   "outputs": [],
   "source": [
    "test_wallet_timeseries = pd.read_csv('../data/processed/test_acc_timeseries_labeled.csv')\n",
    "\n",
    "test_wallet_timeseries['timestamp'] = pd.to_datetime(test_wallet_timeseries['timestamp'])\n",
    "received_tx = test_wallet_timeseries[test_wallet_timeseries['receiver']==test_address]\n",
    "sent_tx = test_wallet_timeseries[test_wallet_timeseries['sender']==test_address]"
   ]
  },
  {
   "cell_type": "code",
   "execution_count": 4,
   "id": "00367c84",
   "metadata": {},
   "outputs": [
    {
     "data": {
      "text/plain": [
       "493"
      ]
     },
     "execution_count": 4,
     "metadata": {},
     "output_type": "execute_result"
    }
   ],
   "source": [
    "#Total recognized transactions \n",
    "\n",
    "test_wallet_timeseries\n",
    "\n",
    "total_tx = len(test_wallet_timeseries['signature'].unique())\n",
    "total_tx"
   ]
  },
  {
   "cell_type": "code",
   "execution_count": 5,
   "id": "2a95fe55",
   "metadata": {},
   "outputs": [],
   "source": [
    "#Total SOL sent volume\n",
    "\n",
    "sol_sent_vol = sent_tx['Native SOL Amount'].sum()"
   ]
  },
  {
   "cell_type": "code",
   "execution_count": 6,
   "id": "2b1d62d5",
   "metadata": {},
   "outputs": [],
   "source": [
    "#Total SOL received volume\n",
    "\n",
    "sol_received_vol = received_tx['Native SOL Amount'].sum()"
   ]
  },
  {
   "cell_type": "code",
   "execution_count": 7,
   "id": "b2ca6824",
   "metadata": {},
   "outputs": [],
   "source": [
    "# Total received volume by token\n",
    "\n",
    "token_received_df = received_tx[received_tx['SYMBOL']!='SOL']\n",
    "\n",
    "tokens_recieved_dict = token_received_df.groupby('SYMBOL')[['token_amount']].sum().to_dict()"
   ]
  },
  {
   "cell_type": "code",
   "execution_count": 8,
   "id": "03731420",
   "metadata": {},
   "outputs": [],
   "source": [
    "# Total sent volume by token\n",
    "\n",
    "token_sent_df = sent_tx[sent_tx['SYMBOL']!='SOL']\n",
    "\n",
    "tokens_sent_dict = token_sent_df.groupby('SYMBOL')[['token_amount']].sum().to_dict()"
   ]
  },
  {
   "cell_type": "code",
   "execution_count": 9,
   "id": "f65efb06-859b-4157-9d98-d0c7e2af5d26",
   "metadata": {},
   "outputs": [],
   "source": [
    "# First tx time\n",
    "\n",
    "first_tx = test_wallet_timeseries['timestamp'].min()"
   ]
  },
  {
   "cell_type": "code",
   "execution_count": 10,
   "id": "be98e469",
   "metadata": {},
   "outputs": [],
   "source": [
    "# Latest tx time\n",
    "\n",
    "last_tx = test_wallet_timeseries['timestamp'].max()"
   ]
  },
  {
   "cell_type": "code",
   "execution_count": 11,
   "id": "07f6eb85",
   "metadata": {},
   "outputs": [],
   "source": [
    "test_wallet_timeseries = test_wallet_timeseries.sort_values('timestamp')"
   ]
  },
  {
   "cell_type": "code",
   "execution_count": 12,
   "id": "d763872f",
   "metadata": {},
   "outputs": [
    {
     "name": "stdout",
     "output_type": "stream",
     "text": [
      "avg_tx_interval: 1 days 00:49:22.463414634\n"
     ]
    }
   ],
   "source": [
    "# Avg tx interval\n",
    "\n",
    "avg_tx_interval = test_wallet_timeseries['timestamp'].diff().mean()\n",
    "print(f'avg_tx_interval: {avg_tx_interval}')\n",
    "\n",
    "avg_seconds = avg_tx_interval.total_seconds()\n",
    "avg_minutes = avg_seconds / 60\n",
    "avg_hours = avg_seconds / 3600"
   ]
  },
  {
   "cell_type": "code",
   "execution_count": 13,
   "id": "fc6415e2",
   "metadata": {},
   "outputs": [],
   "source": [
    "# Number of unique receivers\n",
    "\n",
    "unique_receivers = len(test_wallet_timeseries['receiver'].unique())"
   ]
  },
  {
   "cell_type": "code",
   "execution_count": 14,
   "id": "b2039437",
   "metadata": {},
   "outputs": [],
   "source": [
    "# Number of unique senders\n",
    "\n",
    "unique_senders = len(test_wallet_timeseries['sender'].unique())"
   ]
  },
  {
   "cell_type": "code",
   "execution_count": 15,
   "id": "53ac55e4",
   "metadata": {},
   "outputs": [
    {
     "data": {
      "text/plain": [
       "{'wallet_address': 'AGPZnBZUxmhAtcp8XjT4n8bCia9dEYhhm16M2sfFvmTU',\n",
       " 'entity_label': 'Unknown Entity',\n",
       " 'num_transactions': 493,\n",
       " 'total_sol_volume_sent': np.float64(33.543040899999994),\n",
       " 'total_sol_volume_received': np.float64(61.797667504),\n",
       " 'total_token_volume_sent': {'token_amount': {'BSOL': 37.330799134,\n",
       "   'PYUSD': 16103.611529806,\n",
       "   'USDC': 399.830334,\n",
       "   'USDT': 34.8554960850001}},\n",
       " 'total_token_volume_recieved': {'token_amount': {'$WEN': 643652.0,\n",
       "   'BLZE': 195.106114674,\n",
       "   'BSOL': 0.46103044699999995,\n",
       "   'KMNO': 95.014995437,\n",
       "   'MSOL': 0.027856816,\n",
       "   'PYUSD': 890.784001,\n",
       "   'USDC': 3314.1448831830003,\n",
       "   'USDT': 6693.240062}},\n",
       " 'first_tx_time': Timestamp('2023-11-14 15:20:07'),\n",
       " 'last_tx_time': Timestamp('2025-04-06 12:12:19'),\n",
       " 'avg_tx_interval (seconds)': 89362.463414,\n",
       " 'num_unique_senders': 52,\n",
       " 'num_unique_receivers': 62}"
      ]
     },
     "execution_count": 15,
     "metadata": {},
     "output_type": "execute_result"
    }
   ],
   "source": [
    "wallet_analysis_dict = {\n",
    "    'wallet_address':test_address,\n",
    "    'entity_label': test_wallet_timeseries['wallet_entity_label'].iloc[0],\n",
    "    'num_transactions': total_tx,\n",
    "    'total_sol_volume_sent': sol_sent_vol,\n",
    "    'total_sol_volume_received': sol_received_vol,\n",
    "    'total_token_volume_sent':tokens_sent_dict,\n",
    "    'total_token_volume_recieved':tokens_recieved_dict,\n",
    "    'first_tx_time':first_tx,\n",
    "    'last_tx_time':last_tx,\n",
    "    'avg_tx_interval (seconds)':avg_seconds,\n",
    "    'num_unique_senders':unique_senders,\n",
    "    'num_unique_receivers':unique_receivers\n",
    "}\n",
    "\n",
    "wallet_analysis_dict"
   ]
  },
  {
   "cell_type": "code",
   "execution_count": 16,
   "id": "976a8f57",
   "metadata": {},
   "outputs": [
    {
     "data": {
      "text/html": [
       "<div>\n",
       "<style scoped>\n",
       "    .dataframe tbody tr th:only-of-type {\n",
       "        vertical-align: middle;\n",
       "    }\n",
       "\n",
       "    .dataframe tbody tr th {\n",
       "        vertical-align: top;\n",
       "    }\n",
       "\n",
       "    .dataframe thead th {\n",
       "        text-align: right;\n",
       "    }\n",
       "</style>\n",
       "<table border=\"1\" class=\"dataframe\">\n",
       "  <thead>\n",
       "    <tr style=\"text-align: right;\">\n",
       "      <th></th>\n",
       "      <th>wallet_address</th>\n",
       "      <th>entity_label</th>\n",
       "      <th>num_transactions</th>\n",
       "      <th>total_sol_volume_sent</th>\n",
       "      <th>total_sol_volume_received</th>\n",
       "      <th>total_token_volume_sent</th>\n",
       "      <th>total_token_volume_recieved</th>\n",
       "      <th>first_tx_time</th>\n",
       "      <th>last_tx_time</th>\n",
       "      <th>avg_tx_interval (seconds)</th>\n",
       "      <th>num_unique_senders</th>\n",
       "      <th>num_unique_receivers</th>\n",
       "    </tr>\n",
       "  </thead>\n",
       "  <tbody>\n",
       "    <tr>\n",
       "      <th>0</th>\n",
       "      <td>AGPZnBZUxmhAtcp8XjT4n8bCia9dEYhhm16M2sfFvmTU</td>\n",
       "      <td>Unknown Entity</td>\n",
       "      <td>493</td>\n",
       "      <td>33.543041</td>\n",
       "      <td>61.797668</td>\n",
       "      <td>{'token_amount': {'BSOL': 37.330799134, 'PYUSD...</td>\n",
       "      <td>{'token_amount': {'$WEN': 643652.0, 'BLZE': 19...</td>\n",
       "      <td>2023-11-14 15:20:07</td>\n",
       "      <td>2025-04-06 12:12:19</td>\n",
       "      <td>89362.463414</td>\n",
       "      <td>52</td>\n",
       "      <td>62</td>\n",
       "    </tr>\n",
       "  </tbody>\n",
       "</table>\n",
       "</div>"
      ],
      "text/plain": [
       "                                 wallet_address    entity_label  \\\n",
       "0  AGPZnBZUxmhAtcp8XjT4n8bCia9dEYhhm16M2sfFvmTU  Unknown Entity   \n",
       "\n",
       "   num_transactions  total_sol_volume_sent  total_sol_volume_received  \\\n",
       "0               493              33.543041                  61.797668   \n",
       "\n",
       "                             total_token_volume_sent  \\\n",
       "0  {'token_amount': {'BSOL': 37.330799134, 'PYUSD...   \n",
       "\n",
       "                         total_token_volume_recieved       first_tx_time  \\\n",
       "0  {'token_amount': {'$WEN': 643652.0, 'BLZE': 19... 2023-11-14 15:20:07   \n",
       "\n",
       "         last_tx_time  avg_tx_interval (seconds)  num_unique_senders  \\\n",
       "0 2025-04-06 12:12:19               89362.463414                  52   \n",
       "\n",
       "   num_unique_receivers  \n",
       "0                    62  "
      ]
     },
     "execution_count": 16,
     "metadata": {},
     "output_type": "execute_result"
    }
   ],
   "source": [
    "wallet_analysis_df = pd.DataFrame([wallet_analysis_dict])\n",
    "wallet_analysis_df"
   ]
  },
  {
   "cell_type": "markdown",
   "id": "cf462614",
   "metadata": {},
   "source": [
    "# Track funding sources and flow of assets"
   ]
  },
  {
   "cell_type": "code",
   "execution_count": 17,
   "id": "364395f0",
   "metadata": {},
   "outputs": [],
   "source": [
    "\n",
    "# Wallet Analysis Module\n",
    "class WalletAnalysis:\n",
    "    def __init__(self, df):\n",
    "        self.df = df\n",
    "    \n",
    "    def track_funding_sources_and_flow(self):\n",
    "    # Track the flow of assets, both sent and received volumes (SOL and tokens)\n",
    "        funding_sources = {\n",
    "            \"total_sol_sent\": self.df['total_sol_volume_sent'].sum(),\n",
    "            \"total_sol_received\": self.df['total_sol_volume_received'].sum(),\n",
    "            \"total_token_sent\": self.df['total_token_volume_sent'].apply(self.extract_token_volumes).sum(),\n",
    "            \"total_token_received\": self.df['total_token_volume_recieved'].apply(self.extract_token_volumes).sum()\n",
    "        }\n",
    "        return funding_sources\n",
    "\n",
    "    \n",
    "    def extract_token_volumes(self, token_dict):\n",
    "        # Extract total token volumes from the dict format {'token_amount': {'token_name': amount, ...}}\n",
    "        token_volumes = sum([amount for token, amount in token_dict['token_amount'].items()])\n",
    "        return token_volumes\n",
    "    \n",
    "    def transaction_history(self):\n",
    "        # Provides full transaction history per wallet\n",
    "        # This is a placeholder since the actual data structure for transactions isn't fully provided\n",
    "        return self.df[['wallet_address', 'num_transactions', 'first_tx_time', 'last_tx_time']]\n",
    "    \n",
    "    def key_activity_patterns_and_risk_factors(self):\n",
    "        # Identifying key activity patterns: Average transaction interval, number of unique senders/receivers\n",
    "        activity_patterns = {\n",
    "            \"avg_tx_interval_seconds\": self.df['avg_tx_interval (seconds)'].mean(),\n",
    "            \"unique_senders\": self.df['num_unique_senders'].sum(),\n",
    "            \"unique_receivers\": self.df['num_unique_receivers'].sum(),\n",
    "            \"high_activity_risk\": self._identify_risk_based_on_activity()\n",
    "        }\n",
    "        return activity_patterns\n",
    "    \n",
    "    def _identify_risk_based_on_activity(self):\n",
    "        # A simple threshold logic to flag risky behavior based on high activity\n",
    "        if self.df['avg_tx_interval (seconds)'].mean() < 50000:  # If transaction interval is below 14 hours\n",
    "            return \"High risk: Frequent transactions\"\n",
    "        else:\n",
    "            return \"Low risk: Infrequent transactions\""
   ]
  },
  {
   "cell_type": "code",
   "execution_count": 18,
   "id": "4fad04e9",
   "metadata": {},
   "outputs": [
    {
     "name": "stdout",
     "output_type": "stream",
     "text": [
      "\n",
      "Transaction History:\n",
      "                                 wallet_address  num_transactions  \\\n",
      "0  AGPZnBZUxmhAtcp8XjT4n8bCia9dEYhhm16M2sfFvmTU               493   \n",
      "\n",
      "        first_tx_time        last_tx_time  \n",
      "0 2023-11-14 15:20:07 2025-04-06 12:12:19  \n"
     ]
    }
   ],
   "source": [
    "# Initialize Wallet Analysis Module\n",
    "wallet_analysis = WalletAnalysis(wallet_analysis_df)\n",
    "\n",
    "\n",
    "# Transaction History\n",
    "transaction_history = wallet_analysis.transaction_history()\n",
    "print(\"\\nTransaction History:\")\n",
    "print(transaction_history)\n"
   ]
  },
  {
   "cell_type": "code",
   "execution_count": 19,
   "id": "c08f8262",
   "metadata": {},
   "outputs": [
    {
     "name": "stdout",
     "output_type": "stream",
     "text": [
      "\n",
      "Activity Patterns and Risk Factors:\n",
      "{'avg_tx_interval_seconds': np.float64(89362.463414), 'unique_senders': np.int64(52), 'unique_receivers': np.int64(62), 'high_activity_risk': 'Low risk: Infrequent transactions'}\n"
     ]
    }
   ],
   "source": [
    "# Key Activity Patterns and Risk Factors\n",
    "activity_patterns = wallet_analysis.key_activity_patterns_and_risk_factors()\n",
    "print(\"\\nActivity Patterns and Risk Factors:\")\n",
    "print(activity_patterns)"
   ]
  },
  {
   "cell_type": "code",
   "execution_count": 20,
   "id": "96a69239",
   "metadata": {},
   "outputs": [
    {
     "name": "stdout",
     "output_type": "stream",
     "text": [
      "Funding Sources and Asset Flow:\n",
      "{'total_sol_sent': np.float64(33.543040899999994), 'total_sol_received': np.float64(61.797667504), 'total_token_sent': np.float64(16575.628159025), 'total_token_received': np.float64(654840.778943557)}\n"
     ]
    }
   ],
   "source": [
    "# Track funding sources and asset flow\n",
    "funding_sources = wallet_analysis.track_funding_sources_and_flow()\n",
    "print(\"Funding Sources and Asset Flow:\")\n",
    "print(funding_sources)"
   ]
  }
 ],
 "metadata": {
  "kernelspec": {
   "display_name": "solana-forensics",
   "language": "python",
   "name": "python3"
  },
  "language_info": {
   "codemirror_mode": {
    "name": "ipython",
    "version": 3
   },
   "file_extension": ".py",
   "mimetype": "text/x-python",
   "name": "python",
   "nbconvert_exporter": "python",
   "pygments_lexer": "ipython3",
   "version": "3.13.2"
  }
 },
 "nbformat": 4,
 "nbformat_minor": 5
}
