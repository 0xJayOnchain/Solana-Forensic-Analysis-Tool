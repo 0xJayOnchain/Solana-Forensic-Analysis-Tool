{
 "cells": [
  {
   "cell_type": "code",
   "execution_count": 1,
   "id": "906bfe19",
   "metadata": {},
   "outputs": [],
   "source": [
    "import requests\n",
    "from dotenv import load_dotenv\n",
    "import os\n",
    "import pandas as pd\n",
    "import time\n"
   ]
  },
  {
   "cell_type": "code",
   "execution_count": 2,
   "id": "20ddb64e",
   "metadata": {},
   "outputs": [
    {
     "data": {
      "text/plain": [
       "True"
      ]
     },
     "execution_count": 2,
     "metadata": {},
     "output_type": "execute_result"
    }
   ],
   "source": [
    "load_dotenv()"
   ]
  },
  {
   "cell_type": "code",
   "execution_count": 3,
   "id": "6a8a867b",
   "metadata": {},
   "outputs": [],
   "source": [
    "METASLEUTH_API_KEY = os.getenv('METASLEUTH_API_KEY')\n",
    "test_address = 'AGPZnBZUxmhAtcp8XjT4n8bCia9dEYhhm16M2sfFvmTU'\n",
    "test_wallet_timeseries = pd.read_csv('../data/test_acc_timeseries.csv')\n",
    "\n",
    "test_wallet_timeseries['timestamp'] = pd.to_datetime(test_wallet_timeseries['timestamp'])"
   ]
  },
  {
   "cell_type": "code",
   "execution_count": 4,
   "id": "3f39be65",
   "metadata": {},
   "outputs": [],
   "source": [
    "url = 'https://aml.blocksec.com/address-label/api/v3/chain-list'\n",
    "headers = {'API-KEY':METASLEUTH_API_KEY}"
   ]
  },
  {
   "cell_type": "code",
   "execution_count": 5,
   "id": "893573a4",
   "metadata": {},
   "outputs": [],
   "source": [
    "# import requests\n",
    "\n",
    "# response = requests.get(\n",
    "#     \"https://aml.blocksec.com/address-label/api/v3/chain-list\",\n",
    "#     headers={\"API-KEY\":METASLEUTH_API_KEY},\n",
    "# )\n",
    "\n",
    "# data = response.json()"
   ]
  },
  {
   "cell_type": "code",
   "execution_count": 6,
   "id": "531dfba6",
   "metadata": {},
   "outputs": [],
   "source": [
    "# print(data['data'])"
   ]
  },
  {
   "cell_type": "code",
   "execution_count": 7,
   "id": "69c0c332",
   "metadata": {},
   "outputs": [],
   "source": [
    "def get_solana_chainid(data):\n",
    "    for d in data['data']:\n",
    "        chain_id = d.get('chain_id')\n",
    "        chain_name = d.get('chain_name')\n",
    "\n",
    "        if chain_name.lower() == 'solana':\n",
    "            return {chain_id:chain_name}"
   ]
  },
  {
   "cell_type": "code",
   "execution_count": 8,
   "id": "9f50b175",
   "metadata": {},
   "outputs": [],
   "source": [
    "# solana_metadata = get_solana_chainid(data)\n"
   ]
  },
  {
   "cell_type": "code",
   "execution_count": 9,
   "id": "5b538fd7",
   "metadata": {},
   "outputs": [],
   "source": [
    "# list(solana_metadata.keys())[0]"
   ]
  },
  {
   "cell_type": "code",
   "execution_count": 10,
   "id": "510a8ce7",
   "metadata": {},
   "outputs": [
    {
     "data": {
      "text/plain": [
       "array(['5Hr7wZg7oBpVhH5nngRqzr5W7ZFUfCsfEhbziZJak7fr',\n",
       "       'FLiPgGTXtBtEJoytikaywvWgbz5a56DdHKZU72HSYMFF',\n",
       "       'FLiPGqowc82LLR173hKiFYBq2fCxLZEST5iHbHwj8xKb',\n",
       "       '6UgXZZBoydXRNX6SLjwFDUUgn19GhjBpvNAXU3iepzUV',\n",
       "       'GUq7PhyAUZko2mPhv3CupmdJKQ61LH8VyrdsRL25q7zg',\n",
       "       'AGPZnBZUxmhAtcp8XjT4n8bCia9dEYhhm16M2sfFvmTU',\n",
       "       '7DyZQw3iV5zhHssnNA6Nopi5zc8NGLbYjHMcaok6NN66',\n",
       "       'DkNrNXmjDSmTB8vNnZh2FMf2sd29wsmfKDAUb2GHPEKS',\n",
       "       'fLiPgg2yTvmgfhiPkKriAHkDmmXGP6CdeFX9UF5o7Zc',\n",
       "       'Habp5bncMSsBC3vkChyebepym5dcTNRYeg2LVG464E96',\n",
       "       '7Q7iiGK4ycigQ6AVhVN2tAA8djsh8iQ6pMx7eZ7xEygM',\n",
       "       'GUWM1arUyDnkMGCHvJu3yt1qomJ988utqC3dFN2AUCDT',\n",
       "       '4xDsmeTWPNjgSVSS1VTfzFq3iHZhp77ffPkAmkZkdu71',\n",
       "       '5PXvR1byXDQtKhm8yYmRE3gw1yS6C5SYeGMU3AW6QK8c',\n",
       "       '44F8FNq6xVWTBKKLbr3BJgAdkTFSDJSC5NbAShW1RyVZ',\n",
       "       '6qCVVuwhShy4C5u6SVHREYA5uUww1RhBeQWBpwGqmovB',\n",
       "       '9gY37M5s8jjA4shxZCBuWzqiAX49bdSiWbKmZ6ka3ec',\n",
       "       '2EEw1A49utRqUsnYRYWtnpz2UQ7n7sJn8EEpdN2nKqWQ',\n",
       "       '4bFVyr9tnWVUgL5re1zWKbHfeULinuT87CjesTiTSy9r',\n",
       "       'ASTyfSima4LLAdDgoFGkgqoKowG1LZFDr9fAQrg7iaJZ',\n",
       "       'F5QSMAVWXak2YX5LFCcEdnzdxRnx9W64dcLrezkTtqiT',\n",
       "       '9tYCMoS1LyzMQpmfKzMAMLn1G3BjeeXocwUjDTnXyTmq',\n",
       "       'EJ1b6HQNk13UQW4rtiRCGMzPTLTnMSDQTwuwf7h73FaD',\n",
       "       '242NMeDWEuM2zTtsJVqJYDbjZsnYDC3iQ2dqZcdoQ6Ai',\n",
       "       'ekcNLWkbGSgt7Xm4N8ji7v9FYwbv3w5phTuq4DmBAR3',\n",
       "       'H6fxtvWLFYSJ66mPJqoz7cg6tk32Pcgc9vXrywu4LEWk',\n",
       "       '39GrsozbzM9Sg1U7EDnEtQ69fsVF3pmVtmV2DGDAQQJ5',\n",
       "       'ASTyhbfn6xfVmAnuRGiJ22hqqg9JHgQHrPki9Go9Sr4Z',\n",
       "       '9tXiuRRw7kbejLhZXtxDxYs2REe43uH2e7k1kocgdM9B',\n",
       "       'AP17NrzdvbfwSASAS3VmHKrSCGks5LZzy6Mp51oBiaJZ',\n",
       "       'FLiPggWYQyKVTULFWMQjAk26JfK5XRCajfyTmD5weaZ7',\n",
       "       '9nnLbotNTcUhvbrsA6Mdkx45Sm82G35zo28AqUvjExn8',\n",
       "       '6LXutJvKUw8Q5ue2gCgKHQdAN4suWW8awzFVC6XCguFx',\n",
       "       'CoaKnxNQCJ91FyyNqxmwxEHwzdw8YHmgF3ZpLNjf1TzG',\n",
       "       'G9RaK253q8pWzuNnxBURi4McwwBuZjbpxpV31w7sutRq',\n",
       "       'ADof2Z7zN4cyxXDvpP4rjHq1WbEPpUj33cf9hL8VxtM1',\n",
       "       '7qbRF6YsyGuLUVs6Y1q64bdVrfe4ZcUUz1JRdoVNUJnm',\n",
       "       '82dGS7Jt4Km8ZgwZVRsJ2V6vPXEhVdgDaMP7cqPGG1TW',\n",
       "       'FPmYmRW6X3cD9gLAF6si3L2QDzfK96EYsE9HeK7rmkqm',\n",
       "       '2AQdpHJ2JpcEgPiATUXjQxA8QmafFegfQwSLWSprPicm',\n",
       "       '8phK65jxmTPEN158xLgSr4oZvssw9SyTErpNZj3g7px4',\n",
       "       'CapuXNQoDviLvU1PxFiizLgPNQCxrsag1uMeyk6zLVps',\n",
       "       'HQcY5n2zP6rW74fyFEhWeBd3LnJpBcZechkvJpmdb8cx',\n",
       "       '5snaYowgJDfuM1LPbTNUYHbgkKHtVVnzHiiLDWUV2hh8',\n",
       "       '9DrvZvyWh1HuAoZxvYWMvkf2XCzryCpGgHqrMjyDWpmo',\n",
       "       'BwM8hV7NgJPFBegEiJv3EKtPqqgqhrmZp2PcvMW5z9ts',\n",
       "       '2MFoS3MPtvyQ4Wh4M9pdfPjz6UhVoNbFbGJAskCPCj3h',\n",
       "       'dropjakoD4FsXK24Cd6SKDikcQrB4acr9uXeVFgfe4b',\n",
       "       'H8sMJSCQxfKiFTCfDR3DUMLPwcRbM61LGFJ8N4dK3WjS',\n",
       "       'CFL9Bez2jtVDywwrNjduTfHrbbBPYoKtxaNBiw29p9fQ',\n",
       "       'HzXh3xG4ze9Nw5iBWyUEtGHDXGg6qV2dRtesK5irZsrF'], dtype=object)"
      ]
     },
     "execution_count": 10,
     "metadata": {},
     "output_type": "execute_result"
    }
   ],
   "source": [
    "unique_receivers = test_wallet_timeseries['receiver'].dropna().unique()\n",
    "unique_senders = test_wallet_timeseries['sender'].dropna().unique()\n",
    "unique_senders\n"
   ]
  },
  {
   "cell_type": "code",
   "execution_count": 11,
   "id": "5b3c0867",
   "metadata": {},
   "outputs": [
    {
     "data": {
      "text/plain": [
       "103"
      ]
     },
     "execution_count": 11,
     "metadata": {},
     "output_type": "execute_result"
    }
   ],
   "source": [
    "unique_addresses = list(set(unique_receivers.tolist() + unique_senders.tolist()))\n",
    "len(unique_addresses)"
   ]
  },
  {
   "cell_type": "code",
   "execution_count": 12,
   "id": "e5dc8e95",
   "metadata": {},
   "outputs": [],
   "source": [
    "def chunked(iterable, size):\n",
    "    \"\"\"Yield successive `size`-sized chunks from iterable.\"\"\"\n",
    "    for i in range(0, len(iterable), size):\n",
    "        yield iterable[i:i + size]\n",
    "\n",
    "def fetch_address_labels(unique_addresses, chain_id, api_key, delay=0.2):\n",
    "    url = \"https://aml.blocksec.com/address-label/api/v3/batch-labels\"\n",
    "    headers = {\n",
    "        \"API-KEY\": api_key,\n",
    "        \"Content-Type\": \"application/json\"\n",
    "    }\n",
    "    results = []\n",
    "\n",
    "    for chunk in chunked(unique_addresses, 100):\n",
    "        response = requests.post(\n",
    "            url,\n",
    "            headers=headers,\n",
    "            json={\n",
    "                \"chain_id\": chain_id,\n",
    "                \"addresses\": chunk\n",
    "            }\n",
    "        )\n",
    "        data = response.json()\n",
    "        if data.get(\"code\") == 200000:\n",
    "            results.extend(data.get(\"data\", []))\n",
    "        else:\n",
    "            print(f\"[Error] Batch failed: {data}\")\n",
    "        time.sleep(delay)  # optional delay to avoid rate limits\n",
    "\n",
    "    return results"
   ]
  },
  {
   "cell_type": "code",
   "execution_count": 13,
   "id": "840fccca",
   "metadata": {},
   "outputs": [
    {
     "name": "stdout",
     "output_type": "stream",
     "text": [
      "[Error] Batch failed: {'request_id': '70b0a882b04848a3', 'code': 400012, 'message': 'Daily request limit exceeded. Please try again tomorrow.'}\n",
      "[Error] Batch failed: {'request_id': '1e497b64c99645f7', 'code': 400012, 'message': 'Daily request limit exceeded. Please try again tomorrow.'}\n"
     ]
    }
   ],
   "source": [
    "solana_labels = fetch_address_labels(\n",
    "    unique_addresses=unique_addresses,\n",
    "    chain_id=-3,  # SOLANA\n",
    "    api_key=METASLEUTH_API_KEY\n",
    ")\n"
   ]
  },
  {
   "cell_type": "code",
   "execution_count": null,
   "id": "e483ce6e",
   "metadata": {},
   "outputs": [],
   "source": []
  }
 ],
 "metadata": {
  "kernelspec": {
   "display_name": "solana_analysis_tool_env",
   "language": "python",
   "name": "solana_analysis_tool_env"
  },
  "language_info": {
   "codemirror_mode": {
    "name": "ipython",
    "version": 3
   },
   "file_extension": ".py",
   "mimetype": "text/x-python",
   "name": "python",
   "nbconvert_exporter": "python",
   "pygments_lexer": "ipython3",
   "version": "3.11.9"
  }
 },
 "nbformat": 4,
 "nbformat_minor": 5
}
