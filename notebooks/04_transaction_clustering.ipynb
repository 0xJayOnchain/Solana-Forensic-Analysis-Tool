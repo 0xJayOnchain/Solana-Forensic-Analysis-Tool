{
 "cells": [
  {
   "cell_type": "code",
   "execution_count": 5,
   "id": "bcfbdbff",
   "metadata": {},
   "outputs": [
    {
     "name": "stdout",
     "output_type": "stream",
     "text": [
      "            timestamp                                          signature      type          source tx_status  block_number                                token_address  token_amount direction                                        sender                                      receiver                                  counterparty    tx_fee                        program_id  PRE_BALANCE  POST_BALANCE SYMBOL TOKEN_NAME symbol        day       price  token_amount_usd\n",
      "0 2025-04-06 12:12:19  6mPqrKS4AKYJeZ3JLjjubHSwNB96oiJdFX1DgeZNZEBHxM...  TRANSFER  SYSTEM_PROGRAM   success   331670303.0  So11111111111111111111111111111111111111111  1.000000e-09  received  5Hr7wZg7oBpVhH5nngRqzr5W7ZFUfCsfEhbziZJak7fr  AGPZnBZUxmhAtcp8XjT4n8bCia9dEYhhm16M2sfFvmTU  5Hr7wZg7oBpVhH5nngRqzr5W7ZFUfCsfEhbziZJak7fr  0.000006  11111111111111111111111111111111     0.017773      0.017773    SOL     Solana    NaN 2025-04-06  116.447500      1.164475e-07\n",
      "1 2025-04-06 00:10:50  29aP1yrCx2dbJM4Mxk8257G5e87bY7CgxySDS6LiAAmsxX...  TRANSFER  SYSTEM_PROGRAM   success   331561835.0  So11111111111111111111111111111111111111111  1.000000e-09  received  FLiPgGTXtBtEJoytikaywvWgbz5a56DdHKZU72HSYMFF  AGPZnBZUxmhAtcp8XjT4n8bCia9dEYhhm16M2sfFvmTU  FLiPgGTXtBtEJoytikaywvWgbz5a56DdHKZU72HSYMFF  0.000005  11111111111111111111111111111111     0.017773      0.017773    SOL     Solana    NaN 2025-04-06  116.447500      1.164475e-07\n",
      "2 2025-04-06 00:10:45  2D7D4ndxhZfwZ6TRN6pzY7PQEFkRKTQhQjQ1zpz5MyNDVS...  TRANSFER  SYSTEM_PROGRAM   success   331561822.0  So11111111111111111111111111111111111111111  1.000000e-09  received  FLiPGqowc82LLR173hKiFYBq2fCxLZEST5iHbHwj8xKb  AGPZnBZUxmhAtcp8XjT4n8bCia9dEYhhm16M2sfFvmTU  FLiPGqowc82LLR173hKiFYBq2fCxLZEST5iHbHwj8xKb  0.000005  11111111111111111111111111111111     0.017773      0.017773    SOL     Solana    NaN 2025-04-06  116.447500      1.164475e-07\n",
      "3 2025-04-05 23:38:43  nPrzWnG7SLNepcPeBWjEMKadD6WNuWScRgEwEqSNsHiZNN...  TRANSFER  SYSTEM_PROGRAM   success   331557009.0  So11111111111111111111111111111111111111111  1.000000e-05  received  6UgXZZBoydXRNX6SLjwFDUUgn19GhjBpvNAXU3iepzUV  AGPZnBZUxmhAtcp8XjT4n8bCia9dEYhhm16M2sfFvmTU  6UgXZZBoydXRNX6SLjwFDUUgn19GhjBpvNAXU3iepzUV  0.000005  11111111111111111111111111111111     0.017763      0.017773    SOL     Solana    NaN 2025-04-05  120.140417      1.201404e-03\n",
      "4 2025-04-05 23:38:25  yqSAMWuNg3pC9H5EZJmTr1MudCuUajZye13BMfaS2atLvC...  TRANSFER  SYSTEM_PROGRAM   success   331556964.0  So11111111111111111111111111111111111111111  1.000000e-09  received  GUq7PhyAUZko2mPhv3CupmdJKQ61LH8VyrdsRL25q7zg  AGPZnBZUxmhAtcp8XjT4n8bCia9dEYhhm16M2sfFvmTU  GUq7PhyAUZko2mPhv3CupmdJKQ61LH8VyrdsRL25q7zg  0.000005  11111111111111111111111111111111     0.017763      0.017763    SOL     Solana    NaN 2025-04-05  120.140417      1.201404e-07\n"
     ]
    }
   ],
   "source": [
    "import pandas as pd\n",
    "import numpy as np\n",
    "from datetime import datetime\n",
    "import networkx as nx\n",
    "\n",
    "%store -r tx_level_data\n",
    "\n",
    "pd.set_option('display.width', 200)  # Set a large width\n",
    "pd.set_option('display.max_columns', None)  # Show all columns\n",
    "pd.set_option('display.expand_frame_repr', False)  # Prevent line wrapping\n",
    "\n",
    "\n",
    "\n",
    "print(tx_level_data.head())"
   ]
  },
  {
   "cell_type": "code",
   "execution_count": 6,
   "id": "db5cf0e5",
   "metadata": {},
   "outputs": [],
   "source": [
    "# Initialize a graph\n",
    "G = nx.Graph()\n",
    "\n",
    "# Add edges from each transaction's sender and receiver\n",
    "for _, row in tx_level_data.iterrows():\n",
    "    sender = row['sender']\n",
    "    receiver = row['receiver']\n",
    "    G.add_edge(sender, receiver)\n",
    "\n",
    "# Extract connected components as clusters\n",
    "clusters = list(nx.connected_components(G))\n",
    "\n",
    "# Prepare the cluster data\n",
    "cluster_data = []\n",
    "for cluster_id, wallets in enumerate(clusters):\n",
    "    # Filter transactions involving cluster wallets\n",
    "    mask = tx_level_data['sender'].isin(wallets) | tx_level_data['receiver'].isin(wallets)\n",
    "    cluster_txs = tx_level_data[mask]\n",
    "    #cluster_txs = tx_level_data['signature'].nunique()\n",
    "    \n",
    "    # Aggregate metrics\n",
    "    cluster_entry = {\n",
    "        'cluster_id': cluster_id,\n",
    "        'wallets_in_cluster': list(wallets),\n",
    "        'total_transactions': cluster_txs['signature'].nunique(),\n",
    "        'cluster_start_time': cluster_txs['timestamp'].min(),\n",
    "        'cluster_end_time': cluster_txs['timestamp'].max(),\n",
    "        'cluster_size': len(wallets),\n",
    "        'cluster_type': 'Unknown'  # Placeholder for further analysis\n",
    "    }\n",
    "    cluster_data.append(cluster_entry)\n",
    "\n",
    "# Create the DataFrame\n",
    "cluster_df = pd.DataFrame(cluster_data)[\n",
    "    ['cluster_id', 'wallets_in_cluster', 'total_transactions',\n",
    "     'cluster_start_time', 'cluster_end_time', 'cluster_size', 'cluster_type']\n",
    "]"
   ]
  },
  {
   "cell_type": "code",
   "execution_count": 7,
   "id": "d9111d2e",
   "metadata": {},
   "outputs": [
    {
     "data": {
      "text/html": [
       "<div>\n",
       "<style scoped>\n",
       "    .dataframe tbody tr th:only-of-type {\n",
       "        vertical-align: middle;\n",
       "    }\n",
       "\n",
       "    .dataframe tbody tr th {\n",
       "        vertical-align: top;\n",
       "    }\n",
       "\n",
       "    .dataframe thead th {\n",
       "        text-align: right;\n",
       "    }\n",
       "</style>\n",
       "<table border=\"1\" class=\"dataframe\">\n",
       "  <thead>\n",
       "    <tr style=\"text-align: right;\">\n",
       "      <th></th>\n",
       "      <th>cluster_id</th>\n",
       "      <th>wallets_in_cluster</th>\n",
       "      <th>total_transactions</th>\n",
       "      <th>cluster_start_time</th>\n",
       "      <th>cluster_end_time</th>\n",
       "      <th>cluster_size</th>\n",
       "      <th>cluster_type</th>\n",
       "    </tr>\n",
       "  </thead>\n",
       "  <tbody>\n",
       "    <tr>\n",
       "      <th>0</th>\n",
       "      <td>0</td>\n",
       "      <td>[, CoaKnxNQCJ91FyyNqxmwxEHwzdw8YHmgF3ZpLNjf1Tz...</td>\n",
       "      <td>493</td>\n",
       "      <td>2023-11-14 15:20:07</td>\n",
       "      <td>2025-04-06 12:12:19</td>\n",
       "      <td>243</td>\n",
       "      <td>Unknown</td>\n",
       "    </tr>\n",
       "  </tbody>\n",
       "</table>\n",
       "</div>"
      ],
      "text/plain": [
       "   cluster_id                                 wallets_in_cluster  total_transactions  cluster_start_time    cluster_end_time  cluster_size cluster_type\n",
       "0           0  [, CoaKnxNQCJ91FyyNqxmwxEHwzdw8YHmgF3ZpLNjf1Tz...                 493 2023-11-14 15:20:07 2025-04-06 12:12:19           243      Unknown"
      ]
     },
     "execution_count": 7,
     "metadata": {},
     "output_type": "execute_result"
    }
   ],
   "source": [
    "cluster_df.head()"
   ]
  },
  {
   "cell_type": "code",
   "execution_count": null,
   "id": "af18a83d",
   "metadata": {},
   "outputs": [],
   "source": []
  }
 ],
 "metadata": {
  "kernelspec": {
   "display_name": "solana-forensics",
   "language": "python",
   "name": "python3"
  },
  "language_info": {
   "codemirror_mode": {
    "name": "ipython",
    "version": 3
   },
   "file_extension": ".py",
   "mimetype": "text/x-python",
   "name": "python",
   "nbconvert_exporter": "python",
   "pygments_lexer": "ipython3",
   "version": "3.13.2"
  }
 },
 "nbformat": 4,
 "nbformat_minor": 5
}
